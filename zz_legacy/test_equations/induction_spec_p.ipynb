{
 "cells": [
  {
   "cell_type": "code",
   "execution_count": 1,
   "id": "75471414",
   "metadata": {
    "scrolled": true
   },
   "outputs": [
    {
     "data": {
      "text/plain": [
       "['/pleiades/home1/lmatilsk/rayleigh/utils/test_equations',\n",
       " '/home1/lmatilsk/miniconda3/envs/custom/lib/python37.zip',\n",
       " '/home1/lmatilsk/miniconda3/envs/custom/lib/python3.7',\n",
       " '/home1/lmatilsk/miniconda3/envs/custom/lib/python3.7/lib-dynload',\n",
       " '',\n",
       " '/home1/lmatilsk/miniconda3/envs/custom/lib/python3.7/site-packages',\n",
       " '/home1/lmatilsk/miniconda3/envs/custom/lib/python3.7/site-packages/IPython/extensions',\n",
       " '/lou/la2/lmatilsk/.ipython',\n",
       " '/home1/lmatilsk/rayleigh/code/post_processing']"
      ]
     },
     "execution_count": 1,
     "metadata": {},
     "output_type": "execute_result"
    }
   ],
   "source": [
    "import sys, os\n",
    "import numpy as np\n",
    "import matplotlib.pyplot as plt\n",
    "sys.path.append(os.environ['rapp'])\n",
    "from rayleigh_diagnostics import Shell_Spectra, Shell_Slices, GridInfo\n",
    "from reference_tools import equation_coefficients\n",
    "sys.path"
   ]
  },
  {
   "cell_type": "code",
   "execution_count": 2,
   "id": "050f6415",
   "metadata": {},
   "outputs": [],
   "source": [
    "dirname = '/nobackup/lmatilsk/benchmarks/j2011_mhd/00_test_equations_indp/'\n",
    "#dirname = '/nobackup/lmatilsk/case_M-Prm4.0/00_1k_iters_spec_indp/'"
   ]
  },
  {
   "cell_type": "code",
   "execution_count": 3,
   "id": "6a8f91a8",
   "metadata": {},
   "outputs": [
    {
     "name": "stdout",
     "output_type": "stream",
     "text": [
      "/nobackup/lmatilsk/benchmarks/j2011_mhd/00_test_equations_indp/Shell_Spectra/15001000\n"
     ]
    }
   ],
   "source": [
    "radatadir = dirname + 'Shell_Spectra/'\n",
    "the_file = radatadir + os.listdir(radatadir)[0]\n",
    "spec = Shell_Spectra(the_file,'')\n",
    "print(the_file)"
   ]
  },
  {
   "cell_type": "code",
   "execution_count": 4,
   "id": "8bae9f7d",
   "metadata": {},
   "outputs": [
    {
     "name": "stdout",
     "output_type": "stream",
     "text": [
      "/nobackup/lmatilsk/benchmarks/j2011_mhd/00_test_equations_indp/Shell_Slices/15001000\n"
     ]
    }
   ],
   "source": [
    "radatadir = dirname + 'Shell_Slices/'\n",
    "the_file = radatadir + os.listdir(radatadir)[0]\n",
    "sslice = Shell_Slices(the_file,'')\n",
    "print(the_file)"
   ]
  },
  {
   "cell_type": "code",
   "execution_count": 5,
   "id": "4d8ace04",
   "metadata": {},
   "outputs": [
    {
     "name": "stdout",
     "output_type": "stream",
     "text": [
      "irvals =  [ 18  29  42  53  63  74  85  98 109]\n"
     ]
    }
   ],
   "source": [
    "# break up shell spectra data\n",
    "vals = spec.vals\n",
    "vals_ss = sslice.vals\n",
    "\n",
    "times =  spec.time\n",
    "dt = times[2:] - times[1:-1]\n",
    "dt = dt.reshape((1, 1, 1, len(dt)))\n",
    "dt_old = times[1:-1] - times[:-2]\n",
    "dt_old = dt_old.reshape((1, 1, 1, len(dt_old)))\n",
    "\n",
    "lut = spec.lut\n",
    "lut_ss = sslice.lut\n",
    "irvals = spec.inds\n",
    "\n",
    "print ('irvals = ', irvals)"
   ]
  },
  {
   "cell_type": "code",
   "execution_count": 6,
   "id": "c84673f4",
   "metadata": {},
   "outputs": [
    {
     "name": "stdout",
     "output_type": "stream",
     "text": [
      "(128, 128, 9, 3, 1000)\n"
     ]
    }
   ],
   "source": [
    "print (np.shape(vals))"
   ]
  },
  {
   "cell_type": "code",
   "execution_count": 7,
   "id": "c4d8990e",
   "metadata": {},
   "outputs": [
    {
     "name": "stdout",
     "output_type": "stream",
     "text": [
      "rad = 0.06828907833209069\n"
     ]
    }
   ],
   "source": [
    "# pick a radial location\n",
    "ir0 = 4\n",
    "print ('rad =', spec.radius[ir0]/6.96e10)"
   ]
  },
  {
   "cell_type": "code",
   "execution_count": 8,
   "id": "61630755",
   "metadata": {},
   "outputs": [],
   "source": [
    "# get rotation period (for time axis)\n",
    "eq = equation_coefficients()\n",
    "eq.read(dirname + 'equation_coefficients')\n",
    "Om0 = eq.constants[0]/2\n",
    "prot = 2*np.pi/Om0\n",
    "t = times/prot"
   ]
  },
  {
   "cell_type": "code",
   "execution_count": 9,
   "id": "9d8aeced",
   "metadata": {},
   "outputs": [
    {
     "name": "stdout",
     "output_type": "stream",
     "text": [
      "200.0\n",
      "0.0\n",
      "1000\n"
     ]
    }
   ],
   "source": [
    "# check if timestep changes (usually doesn't over 1000 iters)\n",
    "print(np.mean(np.diff(times)))\n",
    "print(np.std(np.diff(times)))\n",
    "print (len(times))"
   ]
  },
  {
   "cell_type": "code",
   "execution_count": 10,
   "id": "e2a2e1d9",
   "metadata": {},
   "outputs": [
    {
     "data": {
      "text/plain": [
       "1.4142135623730951"
      ]
     },
     "execution_count": 10,
     "metadata": {},
     "output_type": "execute_result"
    }
   ],
   "source": [
    "np.abs(1+1j)"
   ]
  },
  {
   "cell_type": "code",
   "execution_count": 11,
   "id": "8e7e00a4",
   "metadata": {},
   "outputs": [
    {
     "name": "stdout",
     "output_type": "stream",
     "text": [
      "(192, 1, 1)\n",
      "(384, 192, 9, 3, 1000)\n"
     ]
    }
   ],
   "source": [
    "gi=GridInfo(dirname + 'grid_info', '')\n",
    "tw = gi.tweights.reshape((gi.ntheta, 1, 1))\n",
    "print (np.shape(tw))\n",
    "print (np.shape(vals_ss))"
   ]
  },
  {
   "cell_type": "code",
   "execution_count": 12,
   "id": "64185ce6",
   "metadata": {},
   "outputs": [],
   "source": [
    "# integrate total power over spherical surface\n",
    "def my_abs(arr, sslice=False):\n",
    "    out = np.abs(arr)**2\n",
    "    if sslice:\n",
    "        out = np.mean(out, axis=0)\n",
    "        out = np.sum(out*tw, axis=0)\n",
    "    else:\n",
    "        out = np.sum(np.sum(out, axis=0), axis=0)/(4*np.pi)\n",
    "    return out"
   ]
  },
  {
   "cell_type": "code",
   "execution_count": 13,
   "id": "96fe0d93",
   "metadata": {},
   "outputs": [],
   "source": [
    "# r induct\n",
    "b = vals[..., lut[803], :]\n",
    "\n",
    "fexp = induct = vals[..., lut[1614], :]\n",
    "\n",
    "fimp = diff = vals[..., lut[1615], :]\n",
    "\n",
    "# sslice\n",
    "\n",
    "b_ss = vals_ss[..., lut_ss[803], :]\n",
    "\n",
    "fexp_ss = induct_ss = vals_ss[..., lut_ss[1614], :]\n",
    "\n",
    "fimp_ss = diff_ss = vals_ss[..., lut_ss[1615], :]"
   ]
  },
  {
   "cell_type": "code",
   "execution_count": 14,
   "id": "86d92f3b",
   "metadata": {},
   "outputs": [],
   "source": [
    "# get lhs = d var / dt\n",
    "def get_ddt(variable):\n",
    "    dvar = variable[..., 2:] - variable[..., 1:-1]\n",
    "    return dvar/dt\n",
    "\n",
    "dbdt = get_ddt(b)\n",
    "dbdt_ss = get_ddt(b_ss)"
   ]
  },
  {
   "cell_type": "code",
   "execution_count": 15,
   "id": "54d2a5f8",
   "metadata": {},
   "outputs": [],
   "source": [
    "# get weighted rhs\n",
    "\n",
    "def get_weighted_rhs(fimp, fexp):\n",
    "    return 0.5*(fimp[..., 2:] + fimp[..., 1:-1]) + fexp[..., 1:-1] +\\\n",
    "        0.5*(dt/dt_old)*(fexp[..., 1:-1] - fexp[..., :-2])\n",
    "\n",
    "fweighted = get_weighted_rhs(fimp, fexp)\n",
    "\n",
    "fweighted_ss = get_weighted_rhs(fimp_ss, fexp_ss)"
   ]
  },
  {
   "cell_type": "code",
   "execution_count": 16,
   "id": "cefa9031",
   "metadata": {},
   "outputs": [
    {
     "data": {
      "text/plain": [
       "Text(0.5, 1.0, 'induct (p) spec')"
      ]
     },
     "execution_count": 16,
     "metadata": {},
     "output_type": "execute_result"
    },
    {
     "data": {
      "image/png": "[encoded data removed]",
      "text/plain": [
       "<Figure size 432x288 with 1 Axes>"
      ]
     },
     "metadata": {
      "needs_background": "light"
     },
     "output_type": "display_data"
    }
   ],
   "source": [
    "# plot r induct(all pieces)\n",
    "\n",
    "# pieces\n",
    "plt.plot(t, my_abs(induct)[ir0, :], label='tot. ind.')\n",
    "plt.plot(t, my_abs(diff)[ir0, :], label='diff')\n",
    "\n",
    "# totals\n",
    "plt.plot(t[2:], my_abs(dbdt)[ir0, :], 'k', label='dB /dt (numderiv)')\n",
    "plt.plot(t[2:], my_abs(fweighted)[ir0, :], 'r--', label='weighted RHS')\n",
    "\n",
    "# label\n",
    "plt.legend()\n",
    "plt.xlabel('time (prot)')\n",
    "plt.ylabel('induction (G/s)^2')\n",
    "plt.title('induct (p) spec')"
   ]
  },
  {
   "cell_type": "code",
   "execution_count": 17,
   "id": "fe838b07",
   "metadata": {
    "scrolled": true
   },
   "outputs": [
    {
     "data": {
      "text/plain": [
       "Text(0.5, 1.0, 'induct totals (p) spec')"
      ]
     },
     "execution_count": 17,
     "metadata": {},
     "output_type": "execute_result"
    },
    {
     "data": {
      "image/png": "[encoded data removed]",
      "text/plain": [
       "<Figure size 432x288 with 1 Axes>"
      ]
     },
     "metadata": {
      "needs_background": "light"
     },
     "output_type": "display_data"
    }
   ],
   "source": [
    "# plot r induct (totals)\n",
    "plt.plot(t[2:], my_abs(dbdt - fweighted)[ir0, :], 'b', label='LHS - RHS')\n",
    "plt.plot(t[2:], my_abs(dbdt)[ir0, :], 'k', label='dB /dt (numderiv)')\n",
    "plt.plot(t[2:], my_abs(fweighted)[ir0, :], 'r--', label='weighted RHS')\n",
    "plt.yscale('log')\n",
    "\n",
    "# label\n",
    "plt.legend()\n",
    "plt.xlabel('time (prot)')\n",
    "plt.ylabel('induction (G/s)^2')\n",
    "plt.title('induct totals (p) spec')"
   ]
  },
  {
   "cell_type": "code",
   "execution_count": 18,
   "id": "585e565a",
   "metadata": {},
   "outputs": [
    {
     "data": {
      "text/plain": [
       "Text(0.5, 1.0, 'induct (p) sslice')"
      ]
     },
     "execution_count": 18,
     "metadata": {},
     "output_type": "execute_result"
    },
    {
     "data": {
      "image/png": "[encoded data removed]",
      "text/plain": [
       "<Figure size 432x288 with 1 Axes>"
      ]
     },
     "metadata": {
      "needs_background": "light"
     },
     "output_type": "display_data"
    }
   ],
   "source": [
    "# plot r induct(all pieces)\n",
    "\n",
    "# pieces\n",
    "plt.plot(t, my_abs(induct_ss, sslice=True)[ir0, :], label='tot. ind.')\n",
    "plt.plot(t, my_abs(diff_ss, sslice=True)[ir0, :], label='diff')\n",
    "\n",
    "# totals\n",
    "plt.plot(t[2:], my_abs(dbdt_ss, sslice=True)[ir0, :], 'k', label='dB /dt (numderiv)')\n",
    "plt.plot(t[2:], my_abs(fweighted_ss, sslice=True)[ir0, :], 'r--', label='weighted RHS')\n",
    "\n",
    "# label\n",
    "plt.legend()\n",
    "plt.xlabel('time (prot)')\n",
    "plt.ylabel('induction (G/s)^2')\n",
    "plt.title('induct (p) sslice')"
   ]
  },
  {
   "cell_type": "code",
   "execution_count": 19,
   "id": "9f01d111",
   "metadata": {},
   "outputs": [
    {
     "data": {
      "text/plain": [
       "Text(0.5, 1.0, 'induct totals (p) sslice')"
      ]
     },
     "execution_count": 19,
     "metadata": {},
     "output_type": "execute_result"
    },
    {
     "data": {
      "image/png": "[encoded data removed]",
      "text/plain": [
       "<Figure size 432x288 with 1 Axes>"
      ]
     },
     "metadata": {
      "needs_background": "light"
     },
     "output_type": "display_data"
    }
   ],
   "source": [
    "# plot r induct (totals)\n",
    "plt.plot(t[2:], my_abs(dbdt_ss - fweighted_ss, sslice=True)[ir0, :], 'b', label='LHS - RHS')\n",
    "plt.plot(t[2:], my_abs(dbdt_ss, sslice=True)[ir0, :], 'k', label='dB /dt (numderiv)')\n",
    "plt.plot(t[2:], my_abs(fweighted_ss, sslice=True)[ir0, :], 'r--', label='weighted RHS')\n",
    "plt.yscale('log')\n",
    "\n",
    "# label\n",
    "plt.legend()\n",
    "plt.xlabel('time (prot)')\n",
    "plt.ylabel('induction (G/s)^2')\n",
    "plt.title('induct totals (p) sslice')"
   ]
  },
  {
   "cell_type": "code",
   "execution_count": 20,
   "id": "1b2012dd",
   "metadata": {},
   "outputs": [],
   "source": [
    "# plot the errors on spectra\n",
    "irvals = np.arange(spec.nr)"
   ]
  },
  {
   "cell_type": "code",
   "execution_count": 21,
   "id": "7729c283",
   "metadata": {},
   "outputs": [
    {
     "data": {
      "text/plain": [
       "Text(0.5, 1.0, 'induct err (p) spec')"
      ]
     },
     "execution_count": 21,
     "metadata": {},
     "output_type": "execute_result"
    },
    {
     "data": {
      "image/png": "[encoded data removed]",
      "text/plain": [
       "<Figure size 432x288 with 1 Axes>"
      ]
     },
     "metadata": {
      "needs_background": "light"
     },
     "output_type": "display_data"
    }
   ],
   "source": [
    "plt.scatter(irvals, np.mean(my_abs(dbdt - fweighted), axis=1), label='LHS - RHS')\n",
    "plt.scatter(irvals, np.mean(my_abs(fweighted), axis=1), label='weighted RHS')\n",
    "plt.legend()\n",
    "plt.yscale('log')\n",
    "plt.xlabel('rad ind')\n",
    "plt.ylabel('induction (G/s)^2')\n",
    "plt.title('induct err (p) spec')"
   ]
  },
  {
   "cell_type": "code",
   "execution_count": null,
   "id": "1268056b",
   "metadata": {},
   "outputs": [],
   "source": []
  }
 ],
 "metadata": {
  "kernelspec": {
   "display_name": "Python 3",
   "language": "python",
   "name": "python3"
  },
  "language_info": {
   "codemirror_mode": {
    "name": "ipython",
    "version": 3
   },
   "file_extension": ".py",
   "mimetype": "text/x-python",
   "name": "python",
   "nbconvert_exporter": "python",
   "pygments_lexer": "ipython3",
   "version": "3.7.10"
  }
 },
 "nbformat": 4,
 "nbformat_minor": 5
}
