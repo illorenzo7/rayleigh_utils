{
 "cells": [
  {
   "cell_type": "code",
   "execution_count": 1,
   "id": "75471414",
   "metadata": {},
   "outputs": [],
   "source": [
    "import matplotlib.pyplot as plt\n",
    "import numpy as np\n",
    "import sys, os\n",
    "sys.path.append(os.environ['raco'])\n",
    "sys.path.append(os.environ['rapp'])\n",
    "sys.path.append(os.environ['rapl'])\n",
    "from common import *\n",
    "from plotcommon import *\n",
    "from cla_util import *\n",
    "from rayleigh_diagnostics import GridInfo"
   ]
  },
  {
   "cell_type": "code",
   "execution_count": 2,
   "id": "6a8f91a8",
   "metadata": {},
   "outputs": [
    {
     "data": {
      "text/plain": [
       "['Point_Probes_trace-11900001_11900100.pkl',\n",
       " 'AZ_Avgs_trace-11900001_11900100.pkl',\n",
       " 'G_Avgs_trace_nquadlat4_nquadr4-11900001_11900100.pkl']"
      ]
     },
     "execution_count": 2,
     "metadata": {},
     "output_type": "execute_result"
    }
   ],
   "source": [
    "os.listdir('data')"
   ]
  },
  {
   "cell_type": "code",
   "execution_count": 3,
   "id": "4d8ace04",
   "metadata": {},
   "outputs": [
    {
     "name": "stdout",
     "output_type": "stream",
     "text": [
      "irvals =  [ 11  18  26  34  42  53  78  88  92  95  99 103 113 138 149 157 165 173\n",
      " 180]\n",
      "ithetavals =  [ 10  24  48  72  95 119 143 167 181]\n",
      "iphivals =  [  0  48  96 144 191 239 287 335]\n",
      "rvals/rsun =  [0.09892972 0.09642601 0.09262591 0.08838308 0.08434344 0.08023073\n",
      " 0.07617349 0.07184135 0.0697813  0.06818479 0.06605311 0.06399306\n",
      " 0.05966092 0.05560368 0.05149097 0.04745134 0.0432085  0.0394084\n",
      " 0.0369047 ]\n",
      "tt_lat =  [-79.94696225 -66.85669072 -44.41539505 -21.97394799  -0.46753089\n",
      "  21.97394799  44.41539505  66.85669072  79.94696225]\n",
      "lons =  [  0.      45.      90.     135.     179.0625 224.0625 269.0625 314.0625]\n",
      "shape(vals) =  (100, 8, 9, 19, 89)\n",
      "nphi, ntheta, nr =  384 192 192\n"
     ]
    }
   ],
   "source": [
    "# get point probes data\n",
    "di = get_dict('data/Point_Probes_trace-11900001_11900100.pkl')\n",
    "vals = di['vals']\n",
    "times = di['times']\n",
    "iters = di['iters']\n",
    "lut = di['lut']\n",
    "rvals = di['rvals']\n",
    "thetavals = di['thetavals']\n",
    "phivals = di['phivals']\n",
    "\n",
    "# get grid info\n",
    "di_grid = get_grid_info('.')\n",
    "rr = di_grid['rr']\n",
    "tt = di_grid['tt']\n",
    "phi = di_grid['phi']\n",
    "tt_lat = di_grid['tt_lat']\n",
    "lons = di_grid['lons']\n",
    "\n",
    "irvals = inds_from_vals(rr, rvals)\n",
    "ithetavals = inds_from_vals(tt, thetavals)\n",
    "iphivals = inds_from_vals(phi, phivals)\n",
    "\n",
    "print ('irvals = ', irvals)\n",
    "print ('ithetavals = ', ithetavals)\n",
    "print ('iphivals = ', iphivals)\n",
    "\n",
    "print ('rvals/rsun = ', rr[irvals]/rsun)\n",
    "print ('tt_lat = ', tt_lat[ithetavals])\n",
    "print ('lons = ', lons[iphivals])\n",
    "\n",
    "print ('shape(vals) = ', np.shape(vals))\n",
    "print ('nphi, ntheta, nr = ', di_grid['nphi'], di_grid['nt'], di_grid['nr'])"
   ]
  },
  {
   "cell_type": "code",
   "execution_count": 4,
   "id": "867d7b96",
   "metadata": {},
   "outputs": [
    {
     "data": {
      "text/plain": [
       "(array([ 201,  202,  203,  402,  403,  404,  701,  801,  802,  803, 1102,\n",
       "        1103, 1104, 1201, 1202, 1203, 1210, 1211, 1212, 1216, 1219, 1220,\n",
       "        1221, 1228, 1229, 1230, 1237, 1238, 1239, 1248, 1249, 1250, 1401,\n",
       "        1402, 1406, 1421, 1434, 1435, 1436, 1601, 1602, 1603, 1604, 1605,\n",
       "        1606, 1607, 1608, 1609, 1610, 1611, 1612, 1613, 1614, 1615, 1801,\n",
       "        1802, 1803, 1804, 1805, 1806, 1819, 1822, 1901, 1904, 1907, 1910,\n",
       "        1916, 2019, 2025, 2026, 2027, 2043, 2044, 2045, 2201, 2202, 2203,\n",
       "        2204, 2205, 2206, 2207, 2208, 2209, 2210, 2211, 2212, 2213, 2214,\n",
       "        2215]),)"
      ]
     },
     "execution_count": 4,
     "metadata": {},
     "output_type": "execute_result"
    }
   ],
   "source": [
    "np.where(lut !=4000)"
   ]
  },
  {
   "cell_type": "code",
   "execution_count": 5,
   "id": "61630755",
   "metadata": {},
   "outputs": [],
   "source": [
    "prot = compute_Prot('.')\n",
    "t = times/prot"
   ]
  },
  {
   "cell_type": "code",
   "execution_count": 6,
   "id": "9d8aeced",
   "metadata": {},
   "outputs": [
    {
     "data": {
      "text/plain": [
       "array([90.7248565, 90.7248565, 90.7248565, 90.7248565, 90.7248565,\n",
       "       90.7248565, 90.7248565, 90.7248565, 90.7248565, 90.7248565,\n",
       "       90.7248565, 90.7248565, 90.7248565, 90.7248565, 90.7248565,\n",
       "       90.7248565, 90.7248565, 90.7248565, 90.7248565, 90.7248565,\n",
       "       90.7248565, 90.7248565, 90.7248565, 90.7248565, 90.7248565,\n",
       "       90.7248565, 90.7248565, 90.7248565, 90.7248565, 90.7248565,\n",
       "       90.7248565, 90.7248565, 90.7248565, 90.7248565, 90.7248565,\n",
       "       90.7248565, 90.7248565, 90.7248565, 90.7248565, 90.7248565,\n",
       "       90.7248565, 90.7248565, 90.7248565, 90.7248565, 90.7248565,\n",
       "       90.7248565, 90.7248565, 90.7248565, 90.7248565, 90.7248565,\n",
       "       90.7248565, 90.7248565, 90.7248565, 90.7248565, 90.7248565,\n",
       "       90.7248565, 90.7248565, 90.7248565, 90.7248565, 90.7248565,\n",
       "       90.7248565, 90.7248565, 90.7248565, 90.7248565, 90.7248565,\n",
       "       90.7248565, 90.7248565, 90.7248565, 90.7248565, 90.7248565,\n",
       "       90.7248565, 90.7248565, 90.7248565, 90.7248565, 90.7248565,\n",
       "       90.7248565, 90.7248565, 90.7248565, 90.7248565, 90.7248565,\n",
       "       90.7248565, 90.7248565, 90.7248565, 90.7248565, 90.7248565,\n",
       "       90.7248565, 90.7248565, 90.7248565, 90.7248565, 90.7248565,\n",
       "       90.7248565, 90.7248565, 90.7248565, 90.7248565, 90.7248565,\n",
       "       90.7248565, 90.7248565, 90.7248565, 90.7248565])"
      ]
     },
     "execution_count": 6,
     "metadata": {},
     "output_type": "execute_result"
    }
   ],
   "source": [
    "np.diff(times)"
   ]
  },
  {
   "cell_type": "code",
   "execution_count": 7,
   "id": "f48592bd",
   "metadata": {},
   "outputs": [],
   "source": [
    "# thermo state\n",
    "eq = get_eq('.')"
   ]
  },
  {
   "cell_type": "code",
   "execution_count": 8,
   "id": "96fe0d93",
   "metadata": {},
   "outputs": [
    {
     "name": "stdout",
     "output_type": "stream",
     "text": [
      "r/rsun =  0.09892971548281347\n",
      "lat =  21.97394799023564\n",
      "lon =  135.0\n"
     ]
    }
   ],
   "source": [
    "iir0, iit0, iiphi0 = 0, 5, 3\n",
    "\n",
    "ir0, it0, iphi0 = irvals[iir0], ithetavals[iit0], iphivals[iiphi0]\n",
    "\n",
    "print (\"r/rsun = \", rvals[iir0]/rsun)\n",
    "print (\"lat = \", tt_lat[it0])\n",
    "print (\"lon = \", lons[iphi0])\n",
    "\n",
    "fp = 4*np.pi\n",
    "lhs = vals[:, iiphi0, iit0, iir0, lut[1102]]\n",
    "rhs_exp = vals[:, iiphi0, iit0, iir0, lut[2201]]/fp\n",
    "rhs_imp = vals[:, iiphi0, iit0, iir0, lut[2213]]/fp"
   ]
  },
  {
   "cell_type": "code",
   "execution_count": 9,
   "id": "b776e2f6",
   "metadata": {
    "scrolled": true
   },
   "outputs": [
    {
     "data": {
      "text/plain": [
       "<matplotlib.legend.Legend at 0x2aaad828cfd0>"
      ]
     },
     "execution_count": 9,
     "metadata": {},
     "output_type": "execute_result"
    },
    {
     "data": {
      "image/png": "[encoded data removed]",
      "text/plain": [
       "<Figure size 432x288 with 1 Axes>"
      ]
     },
     "metadata": {
      "needs_background": "light"
     },
     "output_type": "display_data"
    }
   ],
   "source": [
    "# compare two forces\n",
    "\n",
    "# discrete time derivative (LHS)\n",
    "dlhs = lhs[2:] - lhs[1:-1]\n",
    "dt = times[2:] - times[1:-1]\n",
    "dt_old = times[1:-1] - times[:-2]\n",
    "lhs_r = dlhsdt = dlhs/dt\n",
    "\n",
    "# RHS (some of source/sink terms)\n",
    "rhs_r = rhs_weighted = 0.5*(rhs_imp[2:] + rhs_imp[1:-1]) + rhs_exp[1:-1] +\\\n",
    "    0.5*(dt/dt_old)*(rhs_exp[1:-1] - rhs_exp[:-2])\n",
    "\n",
    "plt.plot(t[2:], dlhsdt, 'k', label='d ME_r /dt (numderiv)')\n",
    "plt.plot(t[2:], rhs_weighted, 'r--', label='weighted RHS')\n",
    "#plt.plot(t, f_r/rho[ir0], label='weighted RHS')\n",
    "\n",
    "plt.legend()"
   ]
  },
  {
   "cell_type": "code",
   "execution_count": 10,
   "id": "03412e8b",
   "metadata": {},
   "outputs": [],
   "source": [
    "# well that looks pretty good!"
   ]
  },
  {
   "cell_type": "code",
   "execution_count": 11,
   "id": "bd8f428d",
   "metadata": {},
   "outputs": [
    {
     "data": {
      "text/plain": [
       "<matplotlib.legend.Legend at 0x2aaad8ae0ed0>"
      ]
     },
     "execution_count": 11,
     "metadata": {},
     "output_type": "execute_result"
    },
    {
     "data": {
      "image/png": "[encoded data removed]",
      "text/plain": [
       "<Figure size 432x288 with 1 Axes>"
      ]
     },
     "metadata": {
      "needs_background": "light"
     },
     "output_type": "display_data"
    }
   ],
   "source": [
    "lhs = vals[:, iiphi0, iit0, iir0, lut[1103]]\n",
    "rhs_exp = vals[:, iiphi0, iit0, iir0, lut[2202]]/fp\n",
    "rhs_imp = vals[:, iiphi0, iit0, iir0, lut[2214]]/fp\n",
    "\n",
    "dlhs = lhs[2:] - lhs[1:-1]\n",
    "dt = times[2:] - times[1:-1]\n",
    "dt_old = times[1:-1] - times[:-2]\n",
    "lhs_t = dlhsdt = dlhs/dt\n",
    "\n",
    "rhs_t = rhs_weighted = 0.5*(rhs_imp[2:] + rhs_imp[1:-1]) + rhs_exp[1:-1] +\\\n",
    "    0.5*(dt/dt_old)*(rhs_exp[1:-1] - rhs_exp[:-2])\n",
    "\n",
    "plt.plot(t[2:], dlhsdt, 'k', label='d ME_t /dt (numderiv)')\n",
    "plt.plot(t[2:], rhs_weighted, 'r--', label='weighted RHS')\n",
    "#plt.plot(t, f_r/rho[ir0], label='weighted RHS')\n",
    "\n",
    "plt.legend()"
   ]
  },
  {
   "cell_type": "code",
   "execution_count": 17,
   "id": "825ebce3",
   "metadata": {},
   "outputs": [
    {
     "data": {
      "text/plain": [
       "<matplotlib.legend.Legend at 0x2aaad8c6d910>"
      ]
     },
     "execution_count": 17,
     "metadata": {},
     "output_type": "execute_result"
    },
    {
     "data": {
      "image/png": "[encoded data removed]",
      "text/plain": [
       "<Figure size 432x288 with 1 Axes>"
      ]
     },
     "metadata": {
      "needs_background": "light"
     },
     "output_type": "display_data"
    }
   ],
   "source": [
    "lhs = vals[:, iiphi0, iit0, iir0, lut[1104]]\n",
    "rhs_exp = vals[:, iiphi0, iit0, iir0, lut[2203]]/fp\n",
    "rhs_imp = vals[:, iiphi0, iit0, iir0, lut[2215]]/fp\n",
    "\n",
    "dlhs = lhs[2:] - lhs[1:-1]\n",
    "dt = times[2:] - times[1:-1]\n",
    "dt_old = times[1:-1] - times[:-2]\n",
    "lhs_p = dlhsdt = dlhs/dt\n",
    "\n",
    "rhs_p = rhs_weighted = 0.5*(rhs_imp[2:] + rhs_imp[1:-1]) + rhs_exp[1:-1] +\\\n",
    "    0.5*(dt/dt_old)*(rhs_exp[1:-1] - rhs_exp[:-2])\n",
    "\n",
    "plt.plot(t[2:], dlhsdt, 'k', label='d ME_p /dt (numderiv)')\n",
    "plt.plot(t[2:], rhs_weighted, 'r--', label='weighted RHS')\n",
    "#plt.plot(t, f_r/rho[ir0], label='weighted RHS')\n",
    "\n",
    "plt.legend()"
   ]
  },
  {
   "cell_type": "code",
   "execution_count": 16,
   "id": "1c136b08",
   "metadata": {},
   "outputs": [
    {
     "name": "stdout",
     "output_type": "stream",
     "text": [
      "err meprod r =  2.894914801590143e-05\n",
      "err meprod t =  1.1375128291941375e-05\n",
      "err meprod p =  4.5781079074284976e-05\n"
     ]
    }
   ],
   "source": [
    "# check numerical errors in the momentum equation\n",
    "print (\"err meprod r = \", np.std(lhs_r - rhs_r)/np.std(lhs_r))\n",
    "print (\"err meprod t = \", np.std(lhs_t - rhs_t)/np.std(lhs_t))\n",
    "print (\"err meprod p = \", np.std(lhs_p - rhs_p)/np.std(lhs_p))"
   ]
  },
  {
   "cell_type": "code",
   "execution_count": 14,
   "id": "7458202d",
   "metadata": {},
   "outputs": [],
   "source": [
    "# all good in three domains"
   ]
  },
  {
   "cell_type": "code",
   "execution_count": null,
   "id": "c73cb0be",
   "metadata": {},
   "outputs": [],
   "source": []
  }
 ],
 "metadata": {
  "kernelspec": {
   "display_name": "Python 3",
   "language": "python",
   "name": "python3"
  },
  "language_info": {
   "codemirror_mode": {
    "name": "ipython",
    "version": 3
   },
   "file_extension": ".py",
   "mimetype": "text/x-python",
   "name": "python",
   "nbconvert_exporter": "python",
   "pygments_lexer": "ipython3",
   "version": "3.7.10"
  }
 },
 "nbformat": 4,
 "nbformat_minor": 5
}
