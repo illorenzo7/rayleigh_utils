{
 "cells": [
  {
   "cell_type": "code",
   "execution_count": 5,
   "id": "75471414",
   "metadata": {},
   "outputs": [],
   "source": [
    "import matplotlib.pyplot as plt\n",
    "import numpy as np\n",
    "import sys, os\n",
    "sys.path.append(os.environ['raco'])\n",
    "sys.path.append(os.environ['rapp'])\n",
    "sys.path.append(os.environ['rapl'])\n",
    "from common import *\n",
    "from plotcommon import *\n",
    "from cla_util import *\n",
    "from rayleigh_diagnostics import GridInfo"
   ]
  },
  {
   "cell_type": "code",
   "execution_count": 6,
   "id": "cd3ea079",
   "metadata": {},
   "outputs": [],
   "source": [
    "dirname = '/nobackup/lmatilsk/benchmarks/j2011_mhd-1dom/00_test_equations/'"
   ]
  },
  {
   "cell_type": "code",
   "execution_count": 7,
   "id": "6a8f91a8",
   "metadata": {},
   "outputs": [
    {
     "data": {
      "text/plain": [
       "['Point_Probes_trace-15000001_15000100.pkl']"
      ]
     },
     "execution_count": 7,
     "metadata": {},
     "output_type": "execute_result"
    }
   ],
   "source": [
    "os.listdir(dirname + 'data')"
   ]
  },
  {
   "cell_type": "code",
   "execution_count": 8,
   "id": "4d8ace04",
   "metadata": {},
   "outputs": [
    {
     "name": "stdout",
     "output_type": "stream",
     "text": [
      "irvals =  [ 12  20  29  36  42  48  53  58  61  63  66  69  74  79  85  91  98 107\n",
      " 115]\n",
      "ithetavals =  [ 10  24  48  72  95 119 143 167 181]\n",
      "iphivals =  [  0  48  96 144 191 239 287 335]\n",
      "rvals/rsun =  [0.0990935  0.09656762 0.09241647 0.0883522  0.08438459 0.08006052\n",
      " 0.07625216 0.07231844 0.0699226  0.06831853 0.06591181 0.06351597\n",
      " 0.05958225 0.05577389 0.05144982 0.04748221 0.04341794 0.03926679\n",
      " 0.03674091]\n",
      "tt_lat =  [-79.94696225 -66.85669072 -44.41539505 -21.97394799  -0.46753089\n",
      "  21.97394799  44.41539505  66.85669072  79.94696225]\n",
      "lons =  [  0.      45.      90.     135.     179.0625 224.0625 269.0625 314.0625]\n",
      "shape(vals) =  (100, 8, 9, 19, 89)\n",
      "nphi, ntheta, nr =  384 192 128\n"
     ]
    }
   ],
   "source": [
    "# get point probes data\n",
    "di = get_dict(dirname + 'data/Point_Probes_trace-15000001_15000100.pkl')\n",
    "vals = di['vals']\n",
    "times = di['times']\n",
    "iters = di['iters']\n",
    "lut = di['lut']\n",
    "rvals = di['rvals']\n",
    "thetavals = di['thetavals']\n",
    "phivals = di['phivals']\n",
    "\n",
    "# get grid info\n",
    "di_grid = get_grid_info(dirname)\n",
    "rr = di_grid['rr']\n",
    "tt = di_grid['tt']\n",
    "phi = di_grid['phi']\n",
    "tt_lat = di_grid['tt_lat']\n",
    "lons = di_grid['lons']\n",
    "\n",
    "irvals = inds_from_vals(rr, rvals)\n",
    "ithetavals = inds_from_vals(tt, thetavals)\n",
    "iphivals = inds_from_vals(phi, phivals)\n",
    "\n",
    "print ('irvals = ', irvals)\n",
    "print ('ithetavals = ', ithetavals)\n",
    "print ('iphivals = ', iphivals)\n",
    "\n",
    "print ('rvals/rsun = ', rr[irvals]/rsun)\n",
    "print ('tt_lat = ', tt_lat[ithetavals])\n",
    "print ('lons = ', lons[iphivals])\n",
    "\n",
    "print ('shape(vals) = ', np.shape(vals))\n",
    "print ('nphi, ntheta, nr = ', di_grid['nphi'], di_grid['nt'], di_grid['nr'])"
   ]
  },
  {
   "cell_type": "code",
   "execution_count": 9,
   "id": "867d7b96",
   "metadata": {},
   "outputs": [
    {
     "data": {
      "text/plain": [
       "(array([ 201,  202,  203,  402,  403,  404,  701,  801,  802,  803, 1102,\n",
       "        1103, 1104, 1201, 1202, 1203, 1210, 1211, 1212, 1216, 1219, 1220,\n",
       "        1221, 1228, 1229, 1230, 1237, 1238, 1239, 1248, 1249, 1250, 1401,\n",
       "        1402, 1406, 1421, 1434, 1435, 1436, 1601, 1602, 1603, 1604, 1605,\n",
       "        1606, 1607, 1608, 1609, 1610, 1611, 1612, 1613, 1614, 1615, 1801,\n",
       "        1802, 1803, 1804, 1805, 1806, 1819, 1822, 1901, 1904, 1907, 1910,\n",
       "        1916, 2019, 2025, 2026, 2027, 2043, 2044, 2045, 2201, 2202, 2203,\n",
       "        2204, 2205, 2206, 2207, 2208, 2209, 2210, 2211, 2212, 2213, 2214,\n",
       "        2215]),)"
      ]
     },
     "execution_count": 9,
     "metadata": {},
     "output_type": "execute_result"
    }
   ],
   "source": [
    "np.where(lut !=4000)"
   ]
  },
  {
   "cell_type": "code",
   "execution_count": 11,
   "id": "61630755",
   "metadata": {},
   "outputs": [],
   "source": [
    "prot = compute_Prot(dirname)\n",
    "t = times/prot"
   ]
  },
  {
   "cell_type": "code",
   "execution_count": 12,
   "id": "9d8aeced",
   "metadata": {},
   "outputs": [
    {
     "data": {
      "text/plain": [
       "array([200., 200., 200., 200., 200., 200., 200., 200., 200., 200., 200.,\n",
       "       200., 200., 200., 200., 200., 200., 200., 200., 200., 200., 200.,\n",
       "       200., 200., 200., 200., 200., 200., 200., 200., 200., 200., 200.,\n",
       "       200., 200., 200., 200., 200., 200., 200., 200., 200., 200., 200.,\n",
       "       200., 200., 200., 200., 200., 200., 200., 200., 200., 200., 200.,\n",
       "       200., 200., 200., 200., 200., 200., 200., 200., 200., 200., 200.,\n",
       "       200., 200., 200., 200., 200., 200., 200., 200., 200., 200., 200.,\n",
       "       200., 200., 200., 200., 200., 200., 200., 200., 200., 200., 200.,\n",
       "       200., 200., 200., 200., 200., 200., 200., 200., 200., 200., 200.])"
      ]
     },
     "execution_count": 12,
     "metadata": {},
     "output_type": "execute_result"
    }
   ],
   "source": [
    "np.diff(times)"
   ]
  },
  {
   "cell_type": "code",
   "execution_count": 13,
   "id": "f48592bd",
   "metadata": {},
   "outputs": [],
   "source": [
    "# thermo state\n",
    "eq = get_eq(dirname)"
   ]
  },
  {
   "cell_type": "code",
   "execution_count": 14,
   "id": "96fe0d93",
   "metadata": {},
   "outputs": [
    {
     "name": "stdout",
     "output_type": "stream",
     "text": [
      "r/rsun =  0.09909349660182648\n",
      "lat =  21.97394799023564\n",
      "lon =  135.0\n"
     ]
    }
   ],
   "source": [
    "iir0, iit0, iiphi0 = 0, 5, 3\n",
    "\n",
    "ir0, it0, iphi0 = irvals[iir0], ithetavals[iit0], iphivals[iiphi0]\n",
    "\n",
    "print (\"r/rsun = \", rvals[iir0]/rsun)\n",
    "print (\"lat = \", tt_lat[it0])\n",
    "print (\"lon = \", lons[iphi0])\n",
    "\n",
    "lhs = vals[:, iiphi0, iit0, iir0, lut[801]]\n",
    "rhs_exp = vals[:, iiphi0, iit0, iir0, lut[1604]]\n",
    "rhs_imp = vals[:, iiphi0, iit0, iir0, lut[1605]]"
   ]
  },
  {
   "cell_type": "code",
   "execution_count": 15,
   "id": "b776e2f6",
   "metadata": {
    "scrolled": true
   },
   "outputs": [
    {
     "data": {
      "text/plain": [
       "<matplotlib.legend.Legend at 0x2aaad7f54c90>"
      ]
     },
     "execution_count": 15,
     "metadata": {},
     "output_type": "execute_result"
    },
    {
     "data": {
      "image/png": "[encoded data removed]",
      "text/plain": [
       "<Figure size 432x288 with 1 Axes>"
      ]
     },
     "metadata": {
      "needs_background": "light"
     },
     "output_type": "display_data"
    }
   ],
   "source": [
    "# compare two forces\n",
    "\n",
    "# discrete time derivative (LHS)\n",
    "dlhs = lhs[2:] - lhs[1:-1]\n",
    "dt = times[2:] - times[1:-1]\n",
    "dt_old = times[1:-1] - times[:-2]\n",
    "lhs_r = dlhsdt = dlhs/dt\n",
    "\n",
    "# RHS (some of source/sink terms)\n",
    "rhs_r = rhs_weighted = 0.5*(rhs_imp[2:] + rhs_imp[1:-1]) + rhs_exp[1:-1] +\\\n",
    "    0.5*(dt/dt_old)*(rhs_exp[1:-1] - rhs_exp[:-2])\n",
    "\n",
    "plt.plot(t[2:], dlhsdt, 'k', label='d Br /dt (numderiv)')\n",
    "plt.plot(t[2:], rhs_weighted, 'r--', label='weighted RHS')\n",
    "#plt.plot(t, f_r/rho[ir0], label='weighted RHS')\n",
    "\n",
    "plt.legend()"
   ]
  },
  {
   "cell_type": "code",
   "execution_count": 16,
   "id": "03412e8b",
   "metadata": {},
   "outputs": [],
   "source": [
    "# well that looks pretty good!"
   ]
  },
  {
   "cell_type": "code",
   "execution_count": 17,
   "id": "bd8f428d",
   "metadata": {},
   "outputs": [
    {
     "data": {
      "text/plain": [
       "<matplotlib.legend.Legend at 0x2aaadc286590>"
      ]
     },
     "execution_count": 17,
     "metadata": {},
     "output_type": "execute_result"
    },
    {
     "data": {
      "image/png": "[encoded data removed]",
      "text/plain": [
       "<Figure size 432x288 with 1 Axes>"
      ]
     },
     "metadata": {
      "needs_background": "light"
     },
     "output_type": "display_data"
    }
   ],
   "source": [
    "lhs = vals[:, iiphi0, iit0, iir0, lut[802]]\n",
    "rhs_exp = vals[:, iiphi0, iit0, iir0, lut[1609]]\n",
    "rhs_imp = vals[:, iiphi0, iit0, iir0, lut[1610]]\n",
    "\n",
    "dlhs = lhs[2:] - lhs[1:-1]\n",
    "dt = times[2:] - times[1:-1]\n",
    "dt_old = times[1:-1] - times[:-2]\n",
    "lhs_t = dlhsdt = dlhs/dt\n",
    "\n",
    "rhs_t = rhs_weighted = 0.5*(rhs_imp[2:] + rhs_imp[1:-1]) + rhs_exp[1:-1] +\\\n",
    "    0.5*(dt/dt_old)*(rhs_exp[1:-1] - rhs_exp[:-2])\n",
    "\n",
    "plt.plot(t[2:], dlhsdt, 'k', label='d Bt /dt (numderiv)')\n",
    "plt.plot(t[2:], rhs_weighted, 'r--', label='weighted RHS')\n",
    "#plt.plot(t, f_r/rho[ir0], label='weighted RHS')\n",
    "\n",
    "plt.legend()"
   ]
  },
  {
   "cell_type": "code",
   "execution_count": 18,
   "id": "825ebce3",
   "metadata": {},
   "outputs": [
    {
     "data": {
      "text/plain": [
       "<matplotlib.legend.Legend at 0x2aaadc313c10>"
      ]
     },
     "execution_count": 18,
     "metadata": {},
     "output_type": "execute_result"
    },
    {
     "data": {
      "image/png": "[encoded data removed]",
      "text/plain": [
       "<Figure size 432x288 with 1 Axes>"
      ]
     },
     "metadata": {
      "needs_background": "light"
     },
     "output_type": "display_data"
    }
   ],
   "source": [
    "lhs = vals[:, iiphi0, iit0, iir0, lut[803]]\n",
    "rhs_exp = vals[:, iiphi0, iit0, iir0, lut[1614]]\n",
    "rhs_imp = vals[:, iiphi0, iit0, iir0, lut[1615]]\n",
    "\n",
    "dlhs = lhs[2:] - lhs[1:-1]\n",
    "dt = times[2:] - times[1:-1]\n",
    "dt_old = times[1:-1] - times[:-2]\n",
    "lhs_p = dlhsdt = dlhs/dt\n",
    "\n",
    "rhs_p = rhs_weighted = 0.5*(rhs_imp[2:] + rhs_imp[1:-1]) + rhs_exp[1:-1] +\\\n",
    "    0.5*(dt/dt_old)*(rhs_exp[1:-1] - rhs_exp[:-2])\n",
    "\n",
    "plt.plot(t[2:], dlhsdt, 'k', label='d Bp /dt (numderiv)')\n",
    "plt.plot(t[2:], rhs_weighted, 'r--', label='weighted RHS')\n",
    "#plt.plot(t, f_r/rho[ir0], label='weighted RHS')\n",
    "\n",
    "plt.legend()"
   ]
  },
  {
   "cell_type": "code",
   "execution_count": 19,
   "id": "1c136b08",
   "metadata": {},
   "outputs": [
    {
     "name": "stdout",
     "output_type": "stream",
     "text": [
      "err ind r =  2.5226742085132197e-05\n",
      "err ind t =  7.728222388418654e-05\n",
      "err ind p =  2.243314979126398e-05\n"
     ]
    }
   ],
   "source": [
    "# check numerical errors in the momentum equation\n",
    "print (\"err ind r = \", np.std(lhs_r - rhs_r)/np.std(lhs_r))\n",
    "print (\"err ind t = \", np.std(lhs_t - rhs_t)/np.std(lhs_t))\n",
    "print (\"err ind p = \", np.std(lhs_p - rhs_p)/np.std(lhs_p))"
   ]
  },
  {
   "cell_type": "code",
   "execution_count": 14,
   "id": "7458202d",
   "metadata": {},
   "outputs": [],
   "source": [
    "# all good in three domains"
   ]
  },
  {
   "cell_type": "code",
   "execution_count": null,
   "id": "c73cb0be",
   "metadata": {},
   "outputs": [],
   "source": []
  }
 ],
 "metadata": {
  "kernelspec": {
   "display_name": "Python 3",
   "language": "python",
   "name": "python3"
  },
  "language_info": {
   "codemirror_mode": {
    "name": "ipython",
    "version": 3
   },
   "file_extension": ".py",
   "mimetype": "text/x-python",
   "name": "python",
   "nbconvert_exporter": "python",
   "pygments_lexer": "ipython3",
   "version": "3.7.10"
  }
 },
 "nbformat": 4,
 "nbformat_minor": 5
}
