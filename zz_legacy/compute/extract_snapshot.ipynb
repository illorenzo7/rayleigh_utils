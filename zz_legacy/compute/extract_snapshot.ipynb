{
 "cells": [
  {
   "cell_type": "code",
   "execution_count": 1,
   "id": "3850101b",
   "metadata": {},
   "outputs": [],
   "source": [
    "import sys, os, shutil\n",
    "import numpy as np"
   ]
  },
  {
   "cell_type": "code",
   "execution_count": 2,
   "id": "d0add67c",
   "metadata": {},
   "outputs": [],
   "source": [
    "def is_an_int(string):\n",
    "    # obviously, first check if it's actually an int\n",
    "    if isinstance(string, int) or isinstance(string, np.int64):\n",
    "        return True\n",
    "    # otherwise, loop through each character and see if it's an int\n",
    "    len_str = len(string)\n",
    "    bool_val = True # start assuming it's an int, then see if we're wrong\n",
    "    for i in range(len_str):\n",
    "        char = string[i]\n",
    "        bool_val *= (char >= '0' and char <= '9')\n",
    "    return(bool(bool_val))\n",
    "\n",
    "def get_dataname_from_file(filename):\n",
    "    # route does what it's named to do...gets the dataname associated with post-processed \n",
    "    # data product name\n",
    "    just_file = filename.split('/')[-1] #strip the possible full path info\n",
    "    return just_file.split('-')[0]\n",
    "\n",
    "def get_iters_from_file(filename):\n",
    "    # route does what it's named to do...\n",
    "    filename_end = filename.split('-')[-1][:-4] \n",
    "    # (gets the [iter1]_[iter2].pkl and removes the trailing .ext)\n",
    "    iters_st = filename_end.split('_')\n",
    "    iter1, iter2 = int(iters_st[0]), int(iters_st[1])\n",
    "    return iter1, iter2\n",
    "\n",
    "def get_widest_range_file(datadir, dataname, stringent=True):\n",
    "    # Find the desired post-processed file(s) in the data directory. If there are \n",
    "    # multiple, by default choose the one with widest range as far\n",
    "    # as the input raw data files are concerned (i.e., the largest last_iter - first_iter)\n",
    "    # If there is no matching file (i.e., the data product has not been computed yet), \n",
    "    # return None\n",
    "    if os.path.isdir(datadir):\n",
    "        datafiles = os.listdir(datadir)\n",
    "        specific_files = []\n",
    "        for i in range(len(datafiles)):\n",
    "            datafile = datafiles[i]\n",
    "            if stringent:\n",
    "                if dataname == get_dataname_from_file(datafile):\n",
    "                    specific_files.append(datafile)\n",
    "            else:\n",
    "                if dataname in get_dataname_from_file(datafile):\n",
    "                    specific_files.append(datafile)\n",
    "\n",
    "        ranges = []\n",
    "        iters1 = []\n",
    "        iters2 = []\n",
    "        if len(specific_files) > 0:\n",
    "            for specific_file in specific_files:\n",
    "                iter1, iter2 = get_iters_from_file(specific_file)\n",
    "                ranges.append(iter2 - iter1)\n",
    "                iters1.append(iter1)\n",
    "                iters2.append(iter2)\n",
    "            \n",
    "            ranges = np.array(ranges)\n",
    "            iters1 = np.array(iters1)\n",
    "            iters2 = np.array(iters2)\n",
    "            \n",
    "            inds_max_range = np.where(ranges == np.max(ranges))\n",
    "            iters2_maxrange = iters2[inds_max_range]\n",
    "            # By default, use the file closest to the end of the simulation\n",
    "            ind = inds_max_range[0][np.argmax(iters2_maxrange)]\n",
    "            return datadir + specific_files[ind]\n",
    "    # if we reached this point, no file can be found\n",
    "    return None"
   ]
  },
  {
   "cell_type": "code",
   "execution_count": 3,
   "id": "77fb1003",
   "metadata": {},
   "outputs": [],
   "source": [
    "def my_copy(fname1, fname2, direct=False):\n",
    "    if os.path.exists(fname1) and not os.path.exists(fname2):\n",
    "        if direct:\n",
    "            shutil.copytree(fname1, fname2)\n",
    "        else:\n",
    "            shutil.copy(fname1, fname2)\n",
    "\n",
    "def my_mkdir(dirname):\n",
    "    if not os.path.isdir(dirname):\n",
    "        os.makedirs(dirname)\n",
    "    return dirname"
   ]
  },
  {
   "cell_type": "code",
   "execution_count": 4,
   "id": "cd976fe8",
   "metadata": {},
   "outputs": [],
   "source": [
    "dir1 = '00_Summer_Postdoc/Case_4.00'\n",
    "#dir2 = '00_Rayleigh_Checkpoints/2023_Tachocline_ApJ/Prm1.00_om3.0'\n",
    "dir2 = '00_Rayleigh_Checkpoints/2023_Tachocline_ApJ/tmp'"
   ]
  },
  {
   "cell_type": "code",
   "execution_count": 5,
   "id": "d027e177",
   "metadata": {},
   "outputs": [],
   "source": [
    "# copy over basic files\n",
    "for fname in ['main_input', 'equation_coefficients', 'grid_info', 'jobinfo.txt', 'custom_reference_binary']:\n",
    "    my_copy(dir1 + '/' + fname, dir2 + '/' + fname)"
   ]
  },
  {
   "cell_type": "code",
   "execution_count": 6,
   "id": "6cc6832c",
   "metadata": {},
   "outputs": [],
   "source": [
    "# copy over last checkpoint\n",
    "checkpoint_strings = os.listdir(dir1 + '/Checkpoints')\n",
    "checkpoint_numbers = np.zeros_like(checkpoint_strings, dtype='int')\n",
    "for i in range(len(checkpoint_strings)):\n",
    "    st = checkpoint_strings[i]\n",
    "    if is_an_int(st):\n",
    "        checkpoint_numbers[i] = int(st)\n",
    "i_last_numbered_checkpoint = np.argmax(checkpoint_numbers)\n",
    "last_numbered_checkpoint = checkpoint_strings[i_last_numbered_checkpoint]\n",
    "# hopefully this will be the same as \"last_checkpoint\" but may not be\n",
    "\n",
    "my_copy(dir1 + '/Checkpoints/' + last_numbered_checkpoint,\\\n",
    "            dir2 + '/Checkpoints/' + last_numbered_checkpoint, direct=True)\n",
    "\n",
    "# copy over checkpoint log info\n",
    "for fname in ['checkpoint_log', 'last_checkpoint']:\n",
    "    my_copy(dir1 + '/Checkpoints/' + fname, dir2 + '/Checkpoints/' + fname)"
   ]
  },
  {
   "cell_type": "code",
   "execution_count": 7,
   "id": "88991442",
   "metadata": {
    "scrolled": true
   },
   "outputs": [],
   "source": [
    "# copy over last output files\n",
    "for datadir in ['G_Avgs', 'Shell_Avgs', 'AZ_Avgs', 'Shell_Spectra',\\\n",
    "                'Shell_Slices', 'Equatorial_Slices', 'Meridional_Slices']:\n",
    "    datafile_strings = os.listdir(dir1 + '/' + datadir)\n",
    "    datafile_numbers = np.zeros_like(datafile_strings, dtype='int')\n",
    "    for i in range(len(datafile_strings)):\n",
    "        st = datafile_strings[i]\n",
    "        if is_an_int(st):\n",
    "            datafile_numbers[i] = int(st)\n",
    "    \n",
    "    if len(datafile_numbers) > 0:\n",
    "        i_last = np.argmax(datafile_numbers)\n",
    "        last_datafile = datafile_strings[i_last]\n",
    "        my_mkdir(dir2 + '/' + datadir)\n",
    "        my_copy(dir1 + '/' + datadir + '/' + last_datafile,\\\n",
    "                dir2 + '/' + datadir + '/' + last_datafile)"
   ]
  },
  {
   "cell_type": "code",
   "execution_count": 8,
   "id": "579c4c2e",
   "metadata": {},
   "outputs": [],
   "source": [
    "# copy over data files\n",
    "datadir1 = dir1 + '/data/'\n",
    "datadir2 = dir2 + '/data/'\n",
    "my_mkdir(datadir2)\n",
    "for dataname in ['G_Avgs', 'G_Avgs_trace', 'Shell_Avgs', 'AZ_Avgs', 'Shell_Spectra']:\n",
    "    the_file1 = get_widest_range_file(datadir1, dataname)\n",
    "    if not the_file1 is None:\n",
    "        the_file2 = the_file1.replace(dir1, dir2)\n",
    "        my_copy(the_file1, the_file2)"
   ]
  },
  {
   "cell_type": "code",
   "execution_count": null,
   "id": "ae741364",
   "metadata": {},
   "outputs": [],
   "source": []
  }
 ],
 "metadata": {
  "kernelspec": {
   "display_name": "Python 3",
   "language": "python",
   "name": "python3"
  },
  "language_info": {
   "codemirror_mode": {
    "name": "ipython",
    "version": 3
   },
   "file_extension": ".py",
   "mimetype": "text/x-python",
   "name": "python",
   "nbconvert_exporter": "python",
   "pygments_lexer": "ipython3",
   "version": "3.7.10"
  }
 },
 "nbformat": 4,
 "nbformat_minor": 5
}
