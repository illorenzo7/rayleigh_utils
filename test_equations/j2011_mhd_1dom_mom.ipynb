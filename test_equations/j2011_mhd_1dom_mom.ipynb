{
 "cells": [
  {
   "cell_type": "code",
   "execution_count": 7,
   "id": "75471414",
   "metadata": {},
   "outputs": [],
   "source": [
    "import matplotlib.pyplot as plt\n",
    "import numpy as np\n",
    "import sys, os\n",
    "sys.path.append(os.environ['raco'])\n",
    "sys.path.append(os.environ['rapp'])\n",
    "sys.path.append(os.environ['rapl'])\n",
    "from common import *\n",
    "from plotcommon import *\n",
    "from cla_util import *\n",
    "from rayleigh_diagnostics import GridInfo"
   ]
  },
  {
   "cell_type": "code",
   "execution_count": 8,
   "id": "8633006f",
   "metadata": {},
   "outputs": [],
   "source": [
    "dirname = '/nobackup/lmatilsk/benchmarks/j2011_mhd-1dom/00_test_equations/'"
   ]
  },
  {
   "cell_type": "code",
   "execution_count": 9,
   "id": "6a8f91a8",
   "metadata": {},
   "outputs": [
    {
     "data": {
      "text/plain": [
       "['Point_Probes_trace-15000001_15000100.pkl']"
      ]
     },
     "execution_count": 9,
     "metadata": {},
     "output_type": "execute_result"
    }
   ],
   "source": [
    "os.listdir(dirname + 'data')"
   ]
  },
  {
   "cell_type": "code",
   "execution_count": 10,
   "id": "4d8ace04",
   "metadata": {},
   "outputs": [
    {
     "name": "stdout",
     "output_type": "stream",
     "text": [
      "irvals =  [ 12  20  29  36  42  48  53  58  61  63  66  69  74  79  85  91  98 107\n",
      " 115]\n",
      "ithetavals =  [ 10  24  48  72  95 119 143 167 181]\n",
      "iphivals =  [  0  48  96 144 191 239 287 335]\n",
      "rvals/rsun =  [0.0990935  0.09656762 0.09241647 0.0883522  0.08438459 0.08006052\n",
      " 0.07625216 0.07231844 0.0699226  0.06831853 0.06591181 0.06351597\n",
      " 0.05958225 0.05577389 0.05144982 0.04748221 0.04341794 0.03926679\n",
      " 0.03674091]\n",
      "tt_lat =  [-79.94696225 -66.85669072 -44.41539505 -21.97394799  -0.46753089\n",
      "  21.97394799  44.41539505  66.85669072  79.94696225]\n",
      "lons =  [  0.      45.      90.     135.     179.0625 224.0625 269.0625 314.0625]\n",
      "shape(vals) =  (100, 8, 9, 19, 89)\n",
      "nphi, ntheta, nr =  384 192 128\n"
     ]
    }
   ],
   "source": [
    "# get point probes data \n",
    "di = get_dict(dirname + 'data/' + 'Point_Probes_trace-15000001_15000100.pkl')\n",
    "vals = di['vals']\n",
    "times = di['times']\n",
    "iters = di['iters']\n",
    "lut = di['lut']\n",
    "rvals = di['rvals']\n",
    "thetavals = di['thetavals']\n",
    "phivals = di['phivals']\n",
    "\n",
    "# get grid info\n",
    "di_grid = get_grid_info(dirname)\n",
    "rr = di_grid['rr']\n",
    "tt = di_grid['tt']\n",
    "phi = di_grid['phi']\n",
    "tt_lat = di_grid['tt_lat']\n",
    "lons = di_grid['lons']\n",
    "\n",
    "irvals = inds_from_vals(rr, rvals)\n",
    "ithetavals = inds_from_vals(tt, thetavals)\n",
    "iphivals = inds_from_vals(phi, phivals)\n",
    "\n",
    "print ('irvals = ', irvals)\n",
    "print ('ithetavals = ', ithetavals)\n",
    "print ('iphivals = ', iphivals)\n",
    "\n",
    "print ('rvals/rsun = ', rr[irvals]/rsun)\n",
    "print ('tt_lat = ', tt_lat[ithetavals])\n",
    "print ('lons = ', lons[iphivals])\n",
    "\n",
    "print ('shape(vals) = ', np.shape(vals))\n",
    "print ('nphi, ntheta, nr = ', di_grid['nphi'], di_grid['nt'], di_grid['nr'])"
   ]
  },
  {
   "cell_type": "code",
   "execution_count": 11,
   "id": "867d7b96",
   "metadata": {},
   "outputs": [
    {
     "data": {
      "text/plain": [
       "(array([ 201,  202,  203,  402,  403,  404,  701,  801,  802,  803, 1102,\n",
       "        1103, 1104, 1201, 1202, 1203, 1210, 1211, 1212, 1216, 1219, 1220,\n",
       "        1221, 1228, 1229, 1230, 1237, 1238, 1239, 1248, 1249, 1250, 1401,\n",
       "        1402, 1406, 1421, 1434, 1435, 1436, 1601, 1602, 1603, 1604, 1605,\n",
       "        1606, 1607, 1608, 1609, 1610, 1611, 1612, 1613, 1614, 1615, 1801,\n",
       "        1802, 1803, 1804, 1805, 1806, 1819, 1822, 1901, 1904, 1907, 1910,\n",
       "        1916, 2019, 2025, 2026, 2027, 2043, 2044, 2045, 2201, 2202, 2203,\n",
       "        2204, 2205, 2206, 2207, 2208, 2209, 2210, 2211, 2212, 2213, 2214,\n",
       "        2215]),)"
      ]
     },
     "execution_count": 11,
     "metadata": {},
     "output_type": "execute_result"
    }
   ],
   "source": [
    "np.where(lut !=4000)"
   ]
  },
  {
   "cell_type": "code",
   "execution_count": 12,
   "id": "61630755",
   "metadata": {},
   "outputs": [],
   "source": [
    "prot = compute_Prot(dirname)\n",
    "t = times/prot"
   ]
  },
  {
   "cell_type": "code",
   "execution_count": 13,
   "id": "9d8aeced",
   "metadata": {},
   "outputs": [
    {
     "data": {
      "text/plain": [
       "array([200., 200., 200., 200., 200., 200., 200., 200., 200., 200., 200.,\n",
       "       200., 200., 200., 200., 200., 200., 200., 200., 200., 200., 200.,\n",
       "       200., 200., 200., 200., 200., 200., 200., 200., 200., 200., 200.,\n",
       "       200., 200., 200., 200., 200., 200., 200., 200., 200., 200., 200.,\n",
       "       200., 200., 200., 200., 200., 200., 200., 200., 200., 200., 200.,\n",
       "       200., 200., 200., 200., 200., 200., 200., 200., 200., 200., 200.,\n",
       "       200., 200., 200., 200., 200., 200., 200., 200., 200., 200., 200.,\n",
       "       200., 200., 200., 200., 200., 200., 200., 200., 200., 200., 200.,\n",
       "       200., 200., 200., 200., 200., 200., 200., 200., 200., 200., 200.])"
      ]
     },
     "execution_count": 13,
     "metadata": {},
     "output_type": "execute_result"
    }
   ],
   "source": [
    "np.diff(times)"
   ]
  },
  {
   "cell_type": "code",
   "execution_count": 14,
   "id": "f48592bd",
   "metadata": {},
   "outputs": [],
   "source": [
    "# thermo state\n",
    "eq = get_eq(dirname)"
   ]
  },
  {
   "cell_type": "code",
   "execution_count": 15,
   "id": "96fe0d93",
   "metadata": {},
   "outputs": [
    {
     "name": "stdout",
     "output_type": "stream",
     "text": [
      "r/rsun =  0.09909349660182648\n",
      "lat =  -79.94696224738567\n",
      "lon =  0.0\n"
     ]
    }
   ],
   "source": [
    "iir0, iit0, iiphi0 = 0, 0, 0\n",
    "\n",
    "ir0, it0, iphi0 = irvals[iir0], ithetavals[iit0], iphivals[iiphi0]\n",
    "\n",
    "print (\"r/rsun = \", rvals[iir0]/rsun)\n",
    "print (\"lat = \", tt_lat[it0])\n",
    "print (\"lon = \", lons[iphi0])\n",
    "\n",
    "rhovr = vals[:, iiphi0, iit0, iir0, lut[201]]\n",
    "\n",
    "adv_r = -vals[:, iiphi0, iit0, iir0, lut[1201]]\n",
    "buoy = vals[:, iiphi0, iit0, iir0, lut[1216]]\n",
    "cor_r = vals[:, iiphi0, iit0, iir0, lut[1219]]\n",
    "\n",
    "visc_r = vals[:, iiphi0, iit0, iir0, lut[1228]]\n",
    "gradp_r = vals[:, iiphi0, iit0, iir0, lut[1237]]\n",
    "\n",
    "jxb_r = vals[:, iiphi0, iit0, iir0, lut[1248]]"
   ]
  },
  {
   "cell_type": "code",
   "execution_count": 16,
   "id": "b776e2f6",
   "metadata": {
    "scrolled": true
   },
   "outputs": [
    {
     "data": {
      "text/plain": [
       "<matplotlib.legend.Legend at 0x2aaaad2a7810>"
      ]
     },
     "execution_count": 16,
     "metadata": {},
     "output_type": "execute_result"
    },
    {
     "data": {
      "image/png": "[encoded data removed]",
      "text/plain": [
       "<Figure size 432x288 with 1 Axes>"
      ]
     },
     "metadata": {
      "needs_background": "light"
     },
     "output_type": "display_data"
    }
   ],
   "source": [
    "# compare two forces\n",
    "\n",
    "# discrete time derivative (LHS)\n",
    "drhovr = rhovr[2:] - rhovr[1:-1]\n",
    "dt = times[2:] - times[1:-1]\n",
    "dt_old = times[1:-1] - times[:-2]\n",
    "drhovrdt = drhovr/dt\n",
    "\n",
    "# RHS (some of source/sink terms)\n",
    "f_exp = cor_r + adv_r + jxb_r\n",
    "f_imp = gradp_r + buoy + visc_r\n",
    "rhs_momr = f_weighted = 0.5*(f_imp[2:] + f_imp[1:-1]) + f_exp[1:-1] + 0.5*(dt/dt_old)*(f_exp[1:-1] - f_exp[:-2])\n",
    "\n",
    "plt.plot(t[2:], drhovrdt, 'k', label='d vr /dt (numderiv)')\n",
    "plt.plot(t[2:], f_weighted, 'r--', label='weighted RHS')\n",
    "#plt.plot(t, f_r/rho[ir0], label='weighted RHS')\n",
    "\n",
    "plt.legend()"
   ]
  },
  {
   "cell_type": "code",
   "execution_count": 17,
   "id": "03412e8b",
   "metadata": {},
   "outputs": [],
   "source": [
    "# well that looks pretty good!"
   ]
  },
  {
   "cell_type": "code",
   "execution_count": 18,
   "id": "bd8f428d",
   "metadata": {},
   "outputs": [],
   "source": [
    "#Let's look at rho_v_theta\n",
    "rhovt = vals[:, iiphi0, iit0, iir0, lut[202]]\n",
    "\n",
    "adv_t = -vals[:, iiphi0, iit0, iir0, lut[1202]]\n",
    "cor_t = vals[:, iiphi0, iit0, iir0, lut[1220]]\n",
    "\n",
    "visc_t = vals[:, iiphi0, iit0, iir0, lut[1229]]\n",
    "gradp_t = vals[:, iiphi0, iit0, iir0, lut[1238]]\n",
    "\n",
    "jxb_t = vals[:, iiphi0, iit0, iir0, lut[1249]]"
   ]
  },
  {
   "cell_type": "code",
   "execution_count": 19,
   "id": "fe678113",
   "metadata": {},
   "outputs": [
    {
     "data": {
      "text/plain": [
       "<matplotlib.legend.Legend at 0x2aaadc28dd50>"
      ]
     },
     "execution_count": 19,
     "metadata": {},
     "output_type": "execute_result"
    },
    {
     "data": {
      "image/png": "[encoded data removed]",
      "text/plain": [
       "<Figure size 432x288 with 1 Axes>"
      ]
     },
     "metadata": {
      "needs_background": "light"
     },
     "output_type": "display_data"
    }
   ],
   "source": [
    "drhovt = rhovt[2:] - rhovt[1:-1]\n",
    "drhovtdt = drhovt/dt\n",
    "\n",
    "f_exp = cor_t + adv_t + jxb_t\n",
    "f_imp = gradp_t + visc_t\n",
    "\n",
    "rhs_momt = f_weighted = 0.5*(f_imp[2:] + f_imp[1:-1]) + f_exp[1:-1] + 0.5*(dt/dt_old)*(f_exp[1:-1] - f_exp[:-2])\n",
    "\n",
    "plt.plot(t[2:], drhovtdt, 'k', label='d vt /dt (numderiv)')\n",
    "plt.plot(t[2:], f_weighted, 'r--', label='weighted RHS')\n",
    "#plt.plot(t, f_r/rho[ir0], label='weighted RHS')\n",
    "\n",
    "plt.legend()"
   ]
  },
  {
   "cell_type": "code",
   "execution_count": 20,
   "id": "fe838b07",
   "metadata": {},
   "outputs": [
    {
     "data": {
      "text/plain": [
       "<matplotlib.legend.Legend at 0x2aaadc332910>"
      ]
     },
     "execution_count": 20,
     "metadata": {},
     "output_type": "execute_result"
    },
    {
     "data": {
      "image/png": "[encoded data removed]",
      "text/plain": [
       "<Figure size 432x288 with 1 Axes>"
      ]
     },
     "metadata": {
      "needs_background": "light"
     },
     "output_type": "display_data"
    }
   ],
   "source": [
    "# and then phi\n",
    "rhovp = vals[:, iiphi0, iit0, iir0, lut[203]]\n",
    "drhovp = rhovp[2:] - rhovp[1:-1]\n",
    "drhovpdt = drhovp/dt\n",
    "\n",
    "adv_p = -vals[:, iiphi0, iit0, iir0, lut[1203]]\n",
    "cor_p = vals[:, iiphi0, iit0, iir0, lut[1221]]\n",
    "\n",
    "visc_p = vals[:, iiphi0, iit0, iir0, lut[1230]]\n",
    "gradp_p = vals[:, iiphi0, iit0, iir0, lut[1239]]\n",
    "\n",
    "jxb_p = vals[:, iiphi0, iit0, iir0, lut[1250]]\n",
    "\n",
    "f_exp = cor_p + adv_p + jxb_p\n",
    "f_imp = gradp_p + visc_p\n",
    "rhs_momp = f_weighted = 0.5*(f_imp[2:] + f_imp[1:-1]) + f_exp[1:-1] + 0.5*(dt/dt_old)*(f_exp[1:-1] - f_exp[:-2])\n",
    "\n",
    "plt.plot(t[2:], drhovpdt, 'k', label='d vp /dt (numderiv)')\n",
    "plt.plot(t[2:], f_weighted, 'r--', label='weighted RHS')\n",
    "#plt.plot(t, f_r/rho[ir0], label='weighted RHS')\n",
    "\n",
    "plt.legend()"
   ]
  },
  {
   "cell_type": "code",
   "execution_count": 27,
   "id": "ec5ad01a",
   "metadata": {},
   "outputs": [
    {
     "data": {
      "text/plain": [
       "<matplotlib.legend.Legend at 0x2aaadc4c3890>"
      ]
     },
     "execution_count": 27,
     "metadata": {},
     "output_type": "execute_result"
    },
    {
     "data": {
      "image/png": "[encoded data removed]",
      "text/plain": [
       "<Figure size 432x288 with 1 Axes>"
      ]
     },
     "metadata": {
      "needs_background": "light"
     },
     "output_type": "display_data"
    }
   ],
   "source": [
    "# for good measure, see what heat equation does\n",
    "inte = vals[:, iiphi0, iit0, iir0, lut[701]]\n",
    "dinte = inte[2:] - inte[1:-1]\n",
    "dintedt = dinte/dt\n",
    "\n",
    "adv_heat = -vals[:, iiphi0, iit0, iir0, lut[1401]]\n",
    "ref_adv_heat = -rhovr*(eq.T*eq.dsdr)[ir0]*0\n",
    "cond_heating = vals[:, iiphi0, iit0, iir0, lut[1421]]\n",
    "int_heating = vals[:, iiphi0, iit0, iir0, lut[1434]]\n",
    "visc_heating = vals[:, iiphi0, iit0, iir0, lut[1435]]\n",
    "joule_heating = vals[:, iiphi0, iit0, iir0, lut[1436]]\n",
    "\n",
    "f_exp = adv_heat + visc_heating + joule_heating + int_heating\n",
    "f_imp = ref_adv_heat + cond_heating\n",
    "f_weighted = 0.5*(f_imp[2:] + f_imp[1:-1]) + f_exp[1:-1] + 0.5*(dt/dt_old)*(f_exp[1:-1] - f_exp[:-2])\n",
    "\n",
    "plt.plot(t[2:], dintedt, 'k', label='d [INTE] /dt (numderiv)')\n",
    "plt.plot(t[2:], f_weighted, 'r--', label='weighted RHS')\n",
    "#plt.plot(t, f_r/rho[ir0], label='weighted RHS')\n",
    "\n",
    "plt.legend()"
   ]
  },
  {
   "cell_type": "code",
   "execution_count": 22,
   "id": "ba528757",
   "metadata": {},
   "outputs": [],
   "source": [
    "# yeah this guy isn't so hot"
   ]
  },
  {
   "cell_type": "code",
   "execution_count": 23,
   "id": "1c136b08",
   "metadata": {},
   "outputs": [
    {
     "name": "stdout",
     "output_type": "stream",
     "text": [
      "err mom r =  0.014841472487849797\n",
      "err mom t =  0.0015545050724592006\n",
      "err mom p =  0.00028008894393798263\n"
     ]
    }
   ],
   "source": [
    "# check numerical errors in the momentum equation\n",
    "print (\"err mom r = \", np.std(rhs_momr - drhovrdt)/np.std(drhovrdt))\n",
    "print (\"err mom t = \", np.std(rhs_momt - drhovtdt)/np.std(drhovtdt))\n",
    "print (\"err mom p = \", np.std(rhs_momp - drhovpdt)/np.std(drhovpdt))"
   ]
  },
  {
   "cell_type": "code",
   "execution_count": 24,
   "id": "7458202d",
   "metadata": {},
   "outputs": [],
   "source": [
    "# pretty exact ... check three domains"
   ]
  },
  {
   "cell_type": "code",
   "execution_count": 25,
   "id": "31461d51",
   "metadata": {},
   "outputs": [
    {
     "data": {
      "text/plain": [
       "array([0.00562909, 0.00562923, 0.0056295 , 0.00562992, 0.00563049,\n",
       "       0.0056312 , 0.00563206, 0.00563309, 0.00563429, 0.00563566,\n",
       "       0.00563721, 0.00563897, 0.00564093, 0.0056431 , 0.00564551,\n",
       "       0.00564817, 0.00565109, 0.00565428, 0.00565777, 0.00566156,\n",
       "       0.00566568, 0.00567015, 0.00567499, 0.0056802 , 0.00568582,\n",
       "       0.00569187, 0.00569836, 0.00570532, 0.00571278, 0.00572074,\n",
       "       0.00572924, 0.0057383 , 0.00574795, 0.0057582 , 0.00576908,\n",
       "       0.00578062, 0.00579284, 0.00580576, 0.00581942, 0.00583383,\n",
       "       0.00584903, 0.00586503, 0.00588187, 0.00589956, 0.00591815,\n",
       "       0.00593764, 0.00595806, 0.00597945, 0.00600183, 0.00602522,\n",
       "       0.00604965, 0.00607514, 0.00610172, 0.00612942, 0.00615825,\n",
       "       0.00618825, 0.00621943, 0.00625182, 0.00628544, 0.00632032,\n",
       "       0.00635647, 0.00639392, 0.00643269, 0.0064728 , 0.00651426,\n",
       "       0.00655709, 0.00660131, 0.00664693, 0.00669396, 0.00674242,\n",
       "       0.00679232, 0.00684366, 0.00689646, 0.0069507 , 0.0070064 ,\n",
       "       0.00706355, 0.00712214, 0.00718217, 0.00724363, 0.00730651,\n",
       "       0.00737077, 0.0074364 , 0.00750338, 0.00757166, 0.00764121,\n",
       "       0.00771199, 0.00778394, 0.00785702, 0.00793116, 0.00800629,\n",
       "       0.00808235, 0.00815924, 0.00823687, 0.00831516, 0.008394  ,\n",
       "       0.00847326, 0.00855285, 0.00863262, 0.00871243, 0.00879216,\n",
       "       0.00887163, 0.0089507 , 0.0090292 , 0.00910694, 0.00918376,\n",
       "       0.00925946, 0.00933386, 0.00940675, 0.00947794, 0.00954723,\n",
       "       0.0096144 , 0.00967926, 0.0097416 , 0.00980122, 0.00985792,\n",
       "       0.00991151, 0.00996179, 0.01000859, 0.01005173, 0.01009105,\n",
       "       0.01012641, 0.01015766, 0.01018468, 0.01020737, 0.01022564,\n",
       "       0.0102394 , 0.01024861, 0.01025322])"
      ]
     },
     "execution_count": 25,
     "metadata": {},
     "output_type": "execute_result"
    }
   ],
   "source": [
    "eq.dsdr"
   ]
  },
  {
   "cell_type": "code",
   "execution_count": null,
   "id": "d6493e58",
   "metadata": {},
   "outputs": [],
   "source": []
  }
 ],
 "metadata": {
  "kernelspec": {
   "display_name": "Python 3",
   "language": "python",
   "name": "python3"
  },
  "language_info": {
   "codemirror_mode": {
    "name": "ipython",
    "version": 3
   },
   "file_extension": ".py",
   "mimetype": "text/x-python",
   "name": "python",
   "nbconvert_exporter": "python",
   "pygments_lexer": "ipython3",
   "version": "3.7.10"
  }
 },
 "nbformat": 4,
 "nbformat_minor": 5
}
