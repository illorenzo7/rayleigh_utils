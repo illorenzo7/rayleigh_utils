{
 "cells": [
  {
   "cell_type": "code",
   "execution_count": 1,
   "id": "75471414",
   "metadata": {},
   "outputs": [],
   "source": [
    "import matplotlib.pyplot as plt\n",
    "import numpy as np\n",
    "import sys, os\n",
    "sys.path.append(os.environ['raco'])\n",
    "sys.path.append(os.environ['rapp'])\n",
    "sys.path.append(os.environ['rapl'])\n",
    "from common import *\n",
    "from plotcommon import *\n",
    "from cla_util import *\n",
    "from rayleigh_diagnostics import GridInfo"
   ]
  },
  {
   "cell_type": "code",
   "execution_count": 2,
   "id": "050f6415",
   "metadata": {},
   "outputs": [],
   "source": [
    "dirname = '/nobackup/lmatilsk/benchmarks/c2001_case0/00_test_equations/'"
   ]
  },
  {
   "cell_type": "code",
   "execution_count": 3,
   "id": "6a8f91a8",
   "metadata": {},
   "outputs": [
    {
     "name": "stdout",
     "output_type": "stream",
     "text": [
      "the_file =  /nobackup/lmatilsk/benchmarks/c2001_case0/00_test_equations/data/Point_Probes_trace-00100001_00100100.pkl\n"
     ]
    }
   ],
   "source": [
    "the_file = get_widest_range_file (dirname + 'data/', 'Point_Probes_trace')\n",
    "print ('the_file = ', the_file)"
   ]
  },
  {
   "cell_type": "code",
   "execution_count": 4,
   "id": "4d8ace04",
   "metadata": {},
   "outputs": [
    {
     "name": "stdout",
     "output_type": "stream",
     "text": [
      "nphi = 128\n",
      "iphivals =  [  0  16  32  48  63  79  95 111]\n",
      "ntheta = 64\n",
      "ithetavals =  [ 3  8 16 24 32 39 47 55 60]\n",
      "nr = 48\n",
      "irvals =  [ 4  7 11 13 15 18 20 21 22 23 24 25 27 29 32 34 36 40 43]\n"
     ]
    }
   ],
   "source": [
    "# get point probes data\n",
    "di = get_dict(the_file)\n",
    "vals = di['vals']\n",
    "\n",
    "times = di['times']\n",
    "dt = times[2:] - times[1:-1]\n",
    "dt = dt.reshape((len(dt), 1, 1, 1))\n",
    "dt_old = times[1:-1] - times[:-2]\n",
    "dt_old = dt_old.reshape((len(dt_old), 1, 1, 1))\n",
    "\n",
    "iters = di['iters']\n",
    "lut = di['lut']\n",
    "rvals = di['rvals']\n",
    "thetavals = di['thetavals']\n",
    "phivals = di['phivals']\n",
    "\n",
    "# get grid info\n",
    "di_grid = get_grid_info(dirname)\n",
    "rr = di_grid['rr']\n",
    "tt = di_grid['tt']\n",
    "phi = di_grid['phi']\n",
    "tt_lat = di_grid['tt_lat']\n",
    "lons = di_grid['lons']\n",
    "\n",
    "irvals = inds_from_vals(rr, rvals)\n",
    "ithetavals = inds_from_vals(tt, thetavals)\n",
    "iphivals = inds_from_vals(phi, phivals)\n",
    "\n",
    "print ('nphi =', di_grid['nphi'])\n",
    "print ('iphivals = ', iphivals)\n",
    "\n",
    "print ('ntheta =', di_grid['nt'])\n",
    "print ('ithetavals = ', ithetavals)\n",
    "\n",
    "print('nr =', di_grid['nr'])\n",
    "print ('irvals = ', irvals)"
   ]
  },
  {
   "cell_type": "code",
   "execution_count": 5,
   "id": "c84673f4",
   "metadata": {},
   "outputs": [
    {
     "name": "stdout",
     "output_type": "stream",
     "text": [
      "(8, 9, 19)\n"
     ]
    }
   ],
   "source": [
    "print (np.shape(vals[0, ..., 0]))"
   ]
  },
  {
   "cell_type": "code",
   "execution_count": 6,
   "id": "c4d8990e",
   "metadata": {},
   "outputs": [],
   "source": [
    "# pick a point\n",
    "#iphi0, it0, ir0 = 4, 5, 11\n",
    "iphi0, it0, ir0 = 0, 0, 0"
   ]
  },
  {
   "cell_type": "code",
   "execution_count": 7,
   "id": "61630755",
   "metadata": {},
   "outputs": [],
   "source": [
    "prot = compute_Prot(dirname)\n",
    "t = times/prot"
   ]
  },
  {
   "cell_type": "code",
   "execution_count": 8,
   "id": "9d8aeced",
   "metadata": {},
   "outputs": [
    {
     "data": {
      "text/plain": [
       "array([1.e-04, 1.e-04, 1.e-04, 1.e-04, 1.e-04, 1.e-04, 1.e-04, 1.e-04,\n",
       "       1.e-04, 1.e-04, 1.e-04, 1.e-04, 1.e-04, 1.e-04, 1.e-04, 1.e-04,\n",
       "       1.e-04, 1.e-04, 1.e-04, 1.e-04, 1.e-04, 1.e-04, 1.e-04, 1.e-04,\n",
       "       1.e-04, 1.e-04, 1.e-04, 1.e-04, 1.e-04, 1.e-04, 1.e-04, 1.e-04,\n",
       "       1.e-04, 1.e-04, 1.e-04, 1.e-04, 1.e-04, 1.e-04, 1.e-04, 1.e-04,\n",
       "       1.e-04, 1.e-04, 1.e-04, 1.e-04, 1.e-04, 1.e-04, 1.e-04, 1.e-04,\n",
       "       1.e-04, 1.e-04, 1.e-04, 1.e-04, 1.e-04, 1.e-04, 1.e-04, 1.e-04,\n",
       "       1.e-04, 1.e-04, 1.e-04, 1.e-04, 1.e-04, 1.e-04, 1.e-04, 1.e-04,\n",
       "       1.e-04, 1.e-04, 1.e-04, 1.e-04, 1.e-04, 1.e-04, 1.e-04, 1.e-04,\n",
       "       1.e-04, 1.e-04, 1.e-04, 1.e-04, 1.e-04, 1.e-04, 1.e-04, 1.e-04,\n",
       "       1.e-04, 1.e-04, 1.e-04, 1.e-04, 1.e-04, 1.e-04, 1.e-04, 1.e-04,\n",
       "       1.e-04, 1.e-04, 1.e-04, 1.e-04, 1.e-04, 1.e-04, 1.e-04, 1.e-04,\n",
       "       1.e-04, 1.e-04, 1.e-04])"
      ]
     },
     "execution_count": 8,
     "metadata": {},
     "output_type": "execute_result"
    }
   ],
   "source": [
    "np.diff(times)"
   ]
  },
  {
   "cell_type": "code",
   "execution_count": 9,
   "id": "f48592bd",
   "metadata": {},
   "outputs": [],
   "source": [
    "# thermo state\n",
    "eq = get_eq(dirname)"
   ]
  },
  {
   "cell_type": "code",
   "execution_count": 10,
   "id": "64185ce6",
   "metadata": {},
   "outputs": [],
   "source": [
    "def my_maxabs(*args):\n",
    "    the_shape = np.shape(args[0])\n",
    "    maxabs = np.zeros(the_shape) - np.inf\n",
    "    for arg in args:\n",
    "        maxabs = np.maximum(maxabs, arg)\n",
    "    return maxabs"
   ]
  },
  {
   "cell_type": "code",
   "execution_count": 11,
   "id": "96fe0d93",
   "metadata": {},
   "outputs": [],
   "source": [
    "# r momentum \n",
    "rhov_r = vals[..., lut[201]]\n",
    "\n",
    "adv_r = -vals[..., lut[1201]]\n",
    "cor_r = vals[..., lut[1219]]\n",
    "fexp_r = adv_r + cor_r\n",
    "\n",
    "visc_r = vals[..., lut[1228]]\n",
    "gradp_r = vals[..., lut[1237]]\n",
    "buoy = vals[..., lut[1216]]\n",
    "fimp_r = buoy + visc_r + gradp_r\n",
    "\n",
    "# max abs (to normalize later)\n",
    "maxabs_r = my_maxabs(np.abs(adv_r), np.abs(cor_r), np.abs(visc_r), np.abs(gradp_r))"
   ]
  },
  {
   "cell_type": "code",
   "execution_count": 12,
   "id": "bd8f428d",
   "metadata": {},
   "outputs": [],
   "source": [
    "# theta momentum\n",
    "rhov_t = vals[..., lut[202]]\n",
    "\n",
    "adv_t = -vals[..., lut[1202]]\n",
    "cor_t = vals[..., lut[1220]]\n",
    "fexp_t = adv_t + cor_t\n",
    "\n",
    "visc_t = vals[..., lut[1229]]\n",
    "gradp_t = vals[..., lut[1238]]\n",
    "fimp_t = visc_t + gradp_t\n",
    "\n",
    "maxabs_t = my_maxabs(np.abs(adv_t), np.abs(cor_t), np.abs(visc_t), np.abs(gradp_t))"
   ]
  },
  {
   "cell_type": "code",
   "execution_count": 13,
   "id": "71d820f3",
   "metadata": {},
   "outputs": [],
   "source": [
    "# phi momentum\n",
    "rhov_p = vals[..., lut[203]]\n",
    "\n",
    "adv_p = -vals[..., lut[1203]]\n",
    "cor_p = vals[..., lut[1221]]\n",
    "fexp_p = adv_p + cor_p\n",
    "\n",
    "visc_p = vals[..., lut[1230]]\n",
    "gradp_p = vals[..., lut[1239]]\n",
    "fimp_p = visc_p + gradp_p\n",
    "\n",
    "maxabs_p = my_maxabs(np.abs(adv_p), np.abs(cor_p), np.abs(visc_p), np.abs(gradp_p))"
   ]
  },
  {
   "cell_type": "code",
   "execution_count": 14,
   "id": "4752d010",
   "metadata": {},
   "outputs": [],
   "source": [
    "# heat equation\n",
    "rhot = (eq.rho*eq.T)[irvals]\n",
    "rhot = rhot.reshape((1, 1, 1, len(rhot)))\n",
    "tdsdr = (eq.T*eq.dsdr)[irvals]\n",
    "tdsdr = tdsdr.reshape((1, 1, 1, len(tdsdr)))\n",
    "\n",
    "inte = vals[..., lut[701]]\n",
    "dy = inte[2:] - inte[1:-1]\n",
    "dintedt = dy/dt\n",
    "\n",
    "adv_heat = -vals[..., lut[1401]]\n",
    "int_heat = vals[..., lut[1434]]\n",
    "visc_heat = vals[..., lut[1435]]*rhot\n",
    "#joule_heating = vals[..., lut[1436]]*rhot\n",
    "fexp_heat = adv_heat + int_heat + visc_heat# + joule_heating\n",
    "\n",
    "ref_adv_heat = -rhov_r*tdsdr\n",
    "cond_heat = vals[..., lut[1421]]\n",
    "fimp_heat = ref_adv_heat + cond_heat\n",
    "\n",
    "maxabs_heat = my_maxabs(np.abs(adv_heat), np.abs(int_heat), np.abs(visc_heat), np.abs(ref_adv_heat), cond_heat)"
   ]
  },
  {
   "cell_type": "code",
   "execution_count": 15,
   "id": "86d92f3b",
   "metadata": {},
   "outputs": [],
   "source": [
    "# get d lhs / dt\n",
    "dy = rhov_r[2:] - rhov_r[1:-1]\n",
    "drhovdt_r = dy/dt\n",
    "\n",
    "dy = rhov_t[2:] - rhov_t[1:-1]\n",
    "drhovdt_t = dy/dt\n",
    "\n",
    "dy = rhov_p[2:] - rhov_p[1:-1]\n",
    "drhovdt_p = dy/dt"
   ]
  },
  {
   "cell_type": "code",
   "execution_count": 16,
   "id": "54d2a5f8",
   "metadata": {},
   "outputs": [],
   "source": [
    "# start getting weighted rhs\n",
    "\n",
    "def get_weighted_rhs(fimp, fexp):\n",
    "    return 0.5*(fimp[2:] + fimp[1:-1]) + fexp[1:-1] + 0.5*(dt/dt_old)*(fexp[1:-1] - fexp[:-2])\n",
    "\n",
    "fweighted_r = get_weighted_rhs(fimp_r, fexp_r)\n",
    "fweighted_t = get_weighted_rhs(fimp_t, fexp_t)\n",
    "fweighted_p = get_weighted_rhs(fimp_p, fexp_p)\n",
    "fweighted_heat = get_weighted_rhs(fimp_heat, fexp_heat)"
   ]
  },
  {
   "cell_type": "code",
   "execution_count": 17,
   "id": "cefa9031",
   "metadata": {},
   "outputs": [
    {
     "data": {
      "text/plain": [
       "Text(0.5, 1.0, 'momentum (r)')"
      ]
     },
     "execution_count": 17,
     "metadata": {},
     "output_type": "execute_result"
    },
    {
     "data": {
      "image/png": "[encoded data removed]",
      "text/plain": [
       "<Figure size 432x288 with 1 Axes>"
      ]
     },
     "metadata": {
      "needs_background": "light"
     },
     "output_type": "display_data"
    }
   ],
   "source": [
    "# plot r momentum (all pieces)\n",
    "\n",
    "# pieces\n",
    "plt.plot(t, adv_r[:, iphi0, it0, ir0], label='adv')\n",
    "plt.plot(t, cor_r[:, iphi0, it0, ir0], label='cor')\n",
    "plt.plot(t, gradp_r[:, iphi0, it0, ir0], label='gradp')\n",
    "plt.plot(t, visc_r[:, iphi0, it0, ir0], label='visc')\n",
    "\n",
    "# totals\n",
    "plt.plot(t[2:], drhovdt_r[:, iphi0, it0, ir0], 'k', label='drhov_r /dt (numderiv)')\n",
    "plt.plot(t[2:], fweighted_r[:, iphi0, it0, ir0], 'r--', label='weighted RHS')\n",
    "\n",
    "# label\n",
    "plt.legend()\n",
    "plt.xlabel('time (prot)')\n",
    "plt.ylabel('force (c.g.s.)')\n",
    "plt.title('momentum (r)')"
   ]
  },
  {
   "cell_type": "code",
   "execution_count": 18,
   "id": "fe838b07",
   "metadata": {
    "scrolled": true
   },
   "outputs": [
    {
     "data": {
      "text/plain": [
       "Text(0.5, 1.0, 'momentum totals (r)')"
      ]
     },
     "execution_count": 18,
     "metadata": {},
     "output_type": "execute_result"
    },
    {
     "data": {
      "image/png": "[encoded data removed]",
      "text/plain": [
       "<Figure size 432x288 with 1 Axes>"
      ]
     },
     "metadata": {
      "needs_background": "light"
     },
     "output_type": "display_data"
    }
   ],
   "source": [
    "# plot r momentum (totals)\n",
    "plt.plot(t[2:], drhovdt_r[:, iphi0, it0, ir0], 'k', label='drhov_r /dt (numderiv)')\n",
    "plt.plot(t[2:], fweighted_r[:, iphi0, it0, ir0], 'r--', label='weighted RHS')\n",
    "\n",
    "# label\n",
    "plt.legend()\n",
    "plt.xlabel('time (prot)')\n",
    "plt.ylabel('force (c.g.s.)')\n",
    "plt.title('momentum totals (r)')"
   ]
  },
  {
   "cell_type": "code",
   "execution_count": 19,
   "id": "284706d5",
   "metadata": {},
   "outputs": [
    {
     "data": {
      "text/plain": [
       "Text(0.5, 1.0, 'momentum (t)')"
      ]
     },
     "execution_count": 19,
     "metadata": {},
     "output_type": "execute_result"
    },
    {
     "data": {
      "image/png": "[encoded data removed]",
      "text/plain": [
       "<Figure size 432x288 with 1 Axes>"
      ]
     },
     "metadata": {
      "needs_background": "light"
     },
     "output_type": "display_data"
    }
   ],
   "source": [
    "# plot theta momentum (all pieces)\n",
    "\n",
    "# pieces\n",
    "plt.plot(t, adv_t[:, iphi0, it0, ir0], label='adv')\n",
    "plt.plot(t, cor_t[:, iphi0, it0, ir0], label='cor')\n",
    "plt.plot(t, gradp_t[:, iphi0, it0, ir0], label='gradp')\n",
    "plt.plot(t, visc_t[:, iphi0, it0, ir0], label='visc')\n",
    "\n",
    "# totals\n",
    "plt.plot(t[2:], drhovdt_t[:, iphi0, it0, ir0], 'k', label='drhov_t /dt (numderiv)')\n",
    "plt.plot(t[2:], fweighted_t[:, iphi0, it0, ir0], 'r--', label='weighted RHS')\n",
    "\n",
    "# label\n",
    "plt.legend()\n",
    "plt.xlabel('time (prot)')\n",
    "plt.ylabel('force (c.g.s.)')\n",
    "plt.title('momentum (t)')"
   ]
  },
  {
   "cell_type": "code",
   "execution_count": 20,
   "id": "af3261d9",
   "metadata": {
    "scrolled": false
   },
   "outputs": [
    {
     "data": {
      "text/plain": [
       "Text(0.5, 1.0, 'momentum totals (t)')"
      ]
     },
     "execution_count": 20,
     "metadata": {},
     "output_type": "execute_result"
    },
    {
     "data": {
      "image/png": "[encoded data removed]",
      "text/plain": [
       "<Figure size 432x288 with 1 Axes>"
      ]
     },
     "metadata": {
      "needs_background": "light"
     },
     "output_type": "display_data"
    }
   ],
   "source": [
    "# plot r momentum (totals)\n",
    "plt.plot(t[2:], drhovdt_t[:, iphi0, it0, ir0], 'k', label='drhov_t /dt (numderiv)')\n",
    "plt.plot(t[2:], fweighted_t[:, iphi0, it0, ir0], 'r--', label='weighted RHS')\n",
    "\n",
    "# label\n",
    "plt.legend()\n",
    "plt.xlabel('time (prot)')\n",
    "plt.ylabel('force (c.g.s.)')\n",
    "plt.title('momentum totals (t)')"
   ]
  },
  {
   "cell_type": "code",
   "execution_count": 21,
   "id": "6ada3b34",
   "metadata": {},
   "outputs": [
    {
     "data": {
      "text/plain": [
       "Text(0.5, 1.0, 'momentum (p)')"
      ]
     },
     "execution_count": 21,
     "metadata": {},
     "output_type": "execute_result"
    },
    {
     "data": {
      "image/png": "[encoded data removed]",
      "text/plain": [
       "<Figure size 432x288 with 1 Axes>"
      ]
     },
     "metadata": {
      "needs_background": "light"
     },
     "output_type": "display_data"
    }
   ],
   "source": [
    "# plot phi momentum (all pieces)\n",
    "\n",
    "# pieces\n",
    "plt.plot(t, adv_p[:, iphi0, it0, ir0], label='adv')\n",
    "plt.plot(t, cor_p[:, iphi0, it0, ir0], label='cor')\n",
    "plt.plot(t, gradp_p[:, iphi0, it0, ir0], label='gradp')\n",
    "plt.plot(t, visc_p[:, iphi0, it0, ir0], label='visc')\n",
    "\n",
    "# totals\n",
    "plt.plot(t[2:], drhovdt_p[:, iphi0, it0, ir0], 'k', label='drhov_p /dt (numderiv)')\n",
    "plt.plot(t[2:], fweighted_p[:, iphi0, it0, ir0], 'r--', label='weighted RHS')\n",
    "\n",
    "# label\n",
    "plt.legend()\n",
    "plt.xlabel('time (prot)')\n",
    "plt.ylabel('force (c.g.s.)')\n",
    "plt.title('momentum (p)')"
   ]
  },
  {
   "cell_type": "code",
   "execution_count": 22,
   "id": "e8cb10c2",
   "metadata": {
    "scrolled": true
   },
   "outputs": [
    {
     "data": {
      "text/plain": [
       "Text(0.5, 1.0, 'momentum totals (p)')"
      ]
     },
     "execution_count": 22,
     "metadata": {},
     "output_type": "execute_result"
    },
    {
     "data": {
      "image/png": "[encoded data removed]",
      "text/plain": [
       "<Figure size 432x288 with 1 Axes>"
      ]
     },
     "metadata": {
      "needs_background": "light"
     },
     "output_type": "display_data"
    }
   ],
   "source": [
    "# plot r momentum (totals)\n",
    "plt.plot(t[2:], drhovdt_p[:, iphi0, it0, ir0], 'k', label='drhov_p /dt (numderiv)')\n",
    "plt.plot(t[2:], fweighted_p[:, iphi0, it0, ir0], 'r--', label='weighted RHS')\n",
    "\n",
    "# label\n",
    "plt.legend()\n",
    "plt.xlabel('time (prot)')\n",
    "plt.ylabel('force (c.g.s.)')\n",
    "plt.title('momentum totals (p)')"
   ]
  },
  {
   "cell_type": "code",
   "execution_count": 23,
   "id": "07c10de3",
   "metadata": {},
   "outputs": [
    {
     "data": {
      "text/plain": [
       "Text(0.5, 1.0, 'heat eq.')"
      ]
     },
     "execution_count": 23,
     "metadata": {},
     "output_type": "execute_result"
    },
    {
     "data": {
      "image/png": "[encoded data removed]",
      "text/plain": [
       "<Figure size 432x288 with 1 Axes>"
      ]
     },
     "metadata": {
      "needs_background": "light"
     },
     "output_type": "display_data"
    }
   ],
   "source": [
    "# plot heat equation (all pieces)\n",
    "\n",
    "# pieces\n",
    "plt.plot(t, adv_heat[:, iphi0, it0, ir0], label='adv')\n",
    "plt.plot(t, visc_heat[:, iphi0, it0, ir0], label='visc')\n",
    "plt.plot(t, int_heat[:, iphi0, it0, ir0], label='Q(r)')\n",
    "plt.plot(t, cond_heat[:, iphi0, it0, ir0], label='cond')\n",
    "plt.plot(t, ref_adv_heat[:, iphi0, it0, ir0], label='rho T dS/dr')\n",
    "\n",
    "# totals\n",
    "plt.plot(t[2:], dintedt[:, iphi0, it0, ir0], 'k', label='d (rho T S) /dt (numderiv)')\n",
    "plt.plot(t[2:], fweighted_heat[:, iphi0, it0, ir0], 'r--', label='weighted RHS')\n",
    "\n",
    "# label\n",
    "plt.legend()\n",
    "plt.xlabel('time (prot)')\n",
    "plt.ylabel('heating (c.g.s.)')\n",
    "plt.title('heat eq.')"
   ]
  },
  {
   "cell_type": "code",
   "execution_count": 24,
   "id": "1c136b08",
   "metadata": {},
   "outputs": [],
   "source": [
    "# quantify the numerical errors\n",
    "def get_err(diff, norm):\n",
    "    denom = norm**2\n",
    "    for i in range(norm.ndim - 1):\n",
    "        denom = np.mean(denom, axis=-1)\n",
    "    denom = np.sqrt(denom)\n",
    "    \n",
    "    numer = diff**2\n",
    "    for i in range(norm.ndim - 1):\n",
    "        numer = np.mean(numer, axis=-1)\n",
    "    numer = np.sqrt(numer)   \n",
    "    return rms(numer/denom)"
   ]
  },
  {
   "cell_type": "code",
   "execution_count": 25,
   "id": "c2aaa455",
   "metadata": {},
   "outputs": [
    {
     "name": "stdout",
     "output_type": "stream",
     "text": [
      "err mom r =  0.05080420570732174\n",
      "err mom t =  0.1735686504167071\n",
      "err mom p =  0.19749567813640043\n",
      "err heat  =  0.9775658718461252\n"
     ]
    }
   ],
   "source": [
    "# stringent errors\n",
    "print (\"err mom r = \", get_err(fweighted_r - drhovdt_r, fweighted_r))\n",
    "print (\"err mom t = \", get_err(fweighted_t - drhovdt_t, fweighted_t))\n",
    "print (\"err mom p = \", get_err(fweighted_p - drhovdt_p, fweighted_p))\n",
    "print (\"err heat  = \", get_err(fweighted_heat - dintedt, fweighted_heat))"
   ]
  },
  {
   "cell_type": "code",
   "execution_count": 26,
   "id": "6de9cddb",
   "metadata": {},
   "outputs": [
    {
     "name": "stdout",
     "output_type": "stream",
     "text": [
      "err mom r =  1.5210073395557756e-05\n",
      "err mom t =  9.643714650786068e-05\n",
      "err mom p =  5.435234963749023e-05\n",
      "err heat  =  0.5235494367788283\n"
     ]
    }
   ],
   "source": [
    "# errors (w.r.t. maxabs)\n",
    "print (\"err mom r = \", get_err(fweighted_r - drhovdt_r, maxabs_r[2:]))\n",
    "print (\"err mom t = \", get_err(fweighted_t - drhovdt_t, maxabs_t[2:]))\n",
    "print (\"err mom p = \", get_err(fweighted_p - drhovdt_p, maxabs_p[2:]))\n",
    "print (\"err heat  = \", get_err(fweighted_heat - dintedt, maxabs_heat[2:]))"
   ]
  },
  {
   "cell_type": "code",
   "execution_count": null,
   "id": "cd45b79d",
   "metadata": {},
   "outputs": [],
   "source": []
  }
 ],
 "metadata": {
  "kernelspec": {
   "display_name": "Python 3",
   "language": "python",
   "name": "python3"
  },
  "language_info": {
   "codemirror_mode": {
    "name": "ipython",
    "version": 3
   },
   "file_extension": ".py",
   "mimetype": "text/x-python",
   "name": "python",
   "nbconvert_exporter": "python",
   "pygments_lexer": "ipython3",
   "version": "3.7.10"
  }
 },
 "nbformat": 4,
 "nbformat_minor": 5
}
