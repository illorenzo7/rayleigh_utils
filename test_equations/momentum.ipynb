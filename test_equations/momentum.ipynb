{
 "cells": [
  {
   "cell_type": "code",
   "execution_count": 1,
   "id": "75471414",
   "metadata": {},
   "outputs": [
    {
     "data": {
      "text/plain": [
       "['/home1/lmatilsk/rayleigh/utils/test_equations',\n",
       " '/home1/lmatilsk/miniconda3/envs/custom/lib/python37.zip',\n",
       " '/home1/lmatilsk/miniconda3/envs/custom/lib/python3.7',\n",
       " '/home1/lmatilsk/miniconda3/envs/custom/lib/python3.7/lib-dynload',\n",
       " '',\n",
       " '/home1/lmatilsk/miniconda3/envs/custom/lib/python3.7/site-packages',\n",
       " '/home1/lmatilsk/miniconda3/envs/custom/lib/python3.7/site-packages/IPython/extensions',\n",
       " '/home1/lmatilsk/.ipython',\n",
       " '/home1/lmatilsk/rayleigh/code/post_processing']"
      ]
     },
     "execution_count": 1,
     "metadata": {},
     "output_type": "execute_result"
    }
   ],
   "source": [
    "import sys, os\n",
    "import numpy as np\n",
    "import matplotlib.pyplot as plt\n",
    "sys.path.append(os.environ['rapp'])\n",
    "from rayleigh_diagnostics import Point_Probes\n",
    "from reference_tools import equation_coefficients\n",
    "sys.path"
   ]
  },
  {
   "cell_type": "code",
   "execution_count": 2,
   "id": "050f6415",
   "metadata": {},
   "outputs": [],
   "source": [
    "dirnumber = 1\n",
    "savefig = True\n",
    "\n",
    "if dirnumber == 1:\n",
    "    dirname = '/nobackup/lmatilsk/benchmarks/c2001_case0/00_test_equations_1k_iter/'\n",
    "    advect_ref = False\n",
    "    mag = False\n",
    "    dirtag = 'c2001_case0_orig'\n",
    "    \n",
    "if dirnumber == 2:\n",
    "    dirname = '/nobackup/lmatilsk/benchmarks/j2011_hydro/00_test_equations_1k_iter/'\n",
    "    advect_ref = False\n",
    "    mag = False\n",
    "    dirtag = 'j2011_hydro_orig'\n",
    "    \n",
    "if dirnumber == 3:  \n",
    "    dirname = '/nobackup/lmatilsk/benchmarks/j2011_mhd/00_test_equations_1k_iter/'\n",
    "    advect_ref = False\n",
    "    mag = True\n",
    "    dirtag = 'j2011_mhd_orig'\n",
    "    \n",
    "if dirnumber == 4:\n",
    "    dirname = '/nobackup/lmatilsk/case_M-Prm4.0/00_1k_iters_nt384_orig/'\n",
    "    advect_ref = True\n",
    "    mag = True\n",
    "    dirtag = 'case_M_nt384_orig'\n",
    "    \n",
    "if dirnumber == 5:\n",
    "    dirname = '/nobackup/lmatilsk/case_M-Prm4.0/00_1k_iters_nt384_dealiasby2/'\n",
    "    advect_ref = True\n",
    "    mag = True\n",
    "    dirtag = 'case_M_nt384_dealiasby2'\n",
    "    \n",
    "if dirnumber == 6:\n",
    "    dirname = '/nobackup/lmatilsk/case_M-Prm4.0/00_1k_iters_nt768/'\n",
    "    advect_ref = True\n",
    "    mag = True\n",
    "    dirtag = 'case_M_768'\n",
    "    \n",
    "if dirnumber == 7:\n",
    "    dirname = '/nobackup/lmatilsk/case_M-Prm4.0/00_1k_iters_nt768_dealiasby2/'\n",
    "    advect_ref = True\n",
    "    mag = True\n",
    "    dirtag = 'case_M_nt768_dealiasby2'"
   ]
  },
  {
   "cell_type": "code",
   "execution_count": 3,
   "id": "6a8f91a8",
   "metadata": {},
   "outputs": [
    {
     "name": "stdout",
     "output_type": "stream",
     "text": [
      "/nobackup/lmatilsk/benchmarks/c2001_case0/00_test_equations_1k_iter/Point_Probes/00101000\n"
     ]
    }
   ],
   "source": [
    "radatadir = dirname + 'Point_Probes/'\n",
    "the_file = radatadir + os.listdir(radatadir)[0]\n",
    "pp = Point_Probes(the_file,'')\n",
    "print(the_file)"
   ]
  },
  {
   "cell_type": "code",
   "execution_count": 4,
   "id": "4d8ace04",
   "metadata": {},
   "outputs": [
    {
     "name": "stdout",
     "output_type": "stream",
     "text": [
      "iphivals =  [  0  16  32  48  63  79  95 111]\n",
      "ithetavals =  [ 3  8 16 24 32 39 47 55 60]\n",
      "irvals =  [ 4  7 11 13 15 18 20 21 22 23 24 25 27 29 32 34 36 40 43]\n"
     ]
    }
   ],
   "source": [
    "# break up point probes data\n",
    "vals = pp.vals\n",
    "\n",
    "times =  pp.time\n",
    "dt = times[2:] - times[1:-1]\n",
    "dt = dt.reshape((1, 1, 1, len(dt)))\n",
    "dt_old = times[1:-1] - times[:-2]\n",
    "dt_old = dt_old.reshape((1, 1, 1, len(dt_old)))\n",
    "\n",
    "lut = pp.lut\n",
    "irvals = pp.rad_inds\n",
    "ithetavals = pp.theta_inds\n",
    "iphivals = pp.phi_inds\n",
    "\n",
    "print ('iphivals = ', iphivals)\n",
    "print ('ithetavals = ', ithetavals)\n",
    "print ('irvals = ', irvals)"
   ]
  },
  {
   "cell_type": "code",
   "execution_count": 5,
   "id": "c84673f4",
   "metadata": {},
   "outputs": [
    {
     "name": "stdout",
     "output_type": "stream",
     "text": [
      "(8, 9, 19, 45, 1000)\n"
     ]
    }
   ],
   "source": [
    "print (np.shape(vals))"
   ]
  },
  {
   "cell_type": "code",
   "execution_count": 6,
   "id": "c4d8990e",
   "metadata": {},
   "outputs": [],
   "source": [
    "# pick a point\n",
    "iphi0, it0, ir0 = 5, 0, 0"
   ]
  },
  {
   "cell_type": "code",
   "execution_count": 7,
   "id": "61630755",
   "metadata": {},
   "outputs": [],
   "source": [
    "# get rotation period (for time axis)\n",
    "eq = equation_coefficients()\n",
    "eq.read(dirname + 'equation_coefficients')\n",
    "Om0 = eq.constants[0]/2\n",
    "prot = 2*np.pi/Om0\n",
    "t = times/prot"
   ]
  },
  {
   "cell_type": "code",
   "execution_count": 8,
   "id": "9d8aeced",
   "metadata": {},
   "outputs": [
    {
     "name": "stdout",
     "output_type": "stream",
     "text": [
      "9.999999999976694e-05\n",
      "0.0\n",
      "1000\n"
     ]
    }
   ],
   "source": [
    "# check if timestep changes (usually doesn't over 1000 iters)\n",
    "print(np.mean(np.diff(times)))\n",
    "print(np.std(np.diff(times)))\n",
    "print (len(times))"
   ]
  },
  {
   "cell_type": "code",
   "execution_count": 9,
   "id": "64185ce6",
   "metadata": {},
   "outputs": [],
   "source": [
    "# get maxabs of multiple multi dimensional arrays (keeps the dimensions intact)\n",
    "def my_maxabs(*args):\n",
    "    the_shape = np.shape(args[0])\n",
    "    maxabs = np.zeros(the_shape) - np.inf\n",
    "    for arg in args:\n",
    "        maxabs = np.maximum(maxabs, np.abs(arg))\n",
    "    return maxabs"
   ]
  },
  {
   "cell_type": "code",
   "execution_count": 10,
   "id": "96fe0d93",
   "metadata": {},
   "outputs": [],
   "source": [
    "# r momentum \n",
    "rhov_r = vals[..., lut[201], :]\n",
    "\n",
    "adv_r = -vals[..., lut[1201], :]\n",
    "cor_r = vals[..., lut[1219], :]\n",
    "fexp_r = adv_r + cor_r\n",
    "    \n",
    "visc_r = vals[..., lut[1228], :]\n",
    "gradp_r = vals[..., lut[1237], :]\n",
    "buoy = vals[..., lut[1216], :]\n",
    "fimp_r = buoy + visc_r + gradp_r\n",
    "\n",
    "# max abs (to normalize later)\n",
    "maxabs_r = my_maxabs(adv_r, cor_r, visc_r, gradp_r)\n",
    "\n",
    "if mag:\n",
    "    jxb_r = vals[..., lut[1248], :]\n",
    "    fexp_r += jxb_r\n",
    "    maxabs_r = my_maxabs(maxabs_r, jxb_r)"
   ]
  },
  {
   "cell_type": "code",
   "execution_count": 11,
   "id": "bd8f428d",
   "metadata": {},
   "outputs": [],
   "source": [
    "# theta momentum\n",
    "rhov_t = vals[..., lut[202], :]\n",
    "\n",
    "adv_t = -vals[..., lut[1202], :]\n",
    "cor_t = vals[..., lut[1220], :]\n",
    "fexp_t = adv_t + cor_t\n",
    "    \n",
    "visc_t = vals[..., lut[1229], :]\n",
    "gradp_t = vals[..., lut[1238], :]\n",
    "fimp_t = visc_t + gradp_t\n",
    "\n",
    "maxabs_t = my_maxabs(adv_t, cor_t, visc_t, gradp_t)\n",
    "\n",
    "if mag:\n",
    "    jxb_t = vals[..., lut[1249], :]\n",
    "    fexp_t += jxb_t\n",
    "    maxabs_t = my_maxabs(maxabs_t, jxb_t)"
   ]
  },
  {
   "cell_type": "code",
   "execution_count": 12,
   "id": "71d820f3",
   "metadata": {},
   "outputs": [],
   "source": [
    "# phi momentum\n",
    "rhov_p = vals[..., lut[203], :]\n",
    "\n",
    "adv_p = -vals[..., lut[1203], :]\n",
    "cor_p = vals[..., lut[1221], :]\n",
    "fexp_p = adv_p + cor_p\n",
    "    \n",
    "visc_p = vals[..., lut[1230], :]\n",
    "gradp_p = vals[..., lut[1239], :]\n",
    "fimp_p = visc_p + gradp_p\n",
    "\n",
    "maxabs_p = my_maxabs(adv_p, cor_p, visc_p, gradp_p)\n",
    "\n",
    "if mag:\n",
    "    jxb_p = vals[..., lut[1250], :]\n",
    "    fexp_p += jxb_p\n",
    "    maxabs_p = my_maxabs(maxabs_p, jxb_p)"
   ]
  },
  {
   "cell_type": "code",
   "execution_count": 13,
   "id": "4752d010",
   "metadata": {},
   "outputs": [],
   "source": [
    "# heat equation\n",
    "inte = vals[..., lut[701], :]\n",
    "\n",
    "adv_heat = -vals[..., lut[1401], :]\n",
    "int_heat = vals[..., lut[1434], :]\n",
    "visc_heat = vals[..., lut[1435], :]\n",
    "fexp_heat = adv_heat + int_heat + visc_heat\n",
    "\n",
    "cond_heat = vals[..., lut[1421], :]\n",
    "fimp_heat = np.copy(cond_heat)\n",
    "\n",
    "maxabs_heat = my_maxabs(adv_heat, int_heat, visc_heat, cond_heat)\n",
    "\n",
    "if mag:\n",
    "    joule_heat = vals[..., lut[1436], :]\n",
    "    fexp_heat += joule_heat\n",
    "    maxabs_heat = my_maxabs(maxabs_heat, joule_heat)\n",
    "\n",
    "if advect_ref:\n",
    "    ref_adv_heat = -vals[..., lut[1479], :]\n",
    "    fimp_heat += ref_adv_heat\n",
    "    maxabs_heat = my_maxabs(maxabs_heat, ref_adv_heat)"
   ]
  },
  {
   "cell_type": "code",
   "execution_count": 14,
   "id": "86d92f3b",
   "metadata": {},
   "outputs": [],
   "source": [
    "# get lhs = d var / dt (momentum, heat)\n",
    "def get_ddt(variable):\n",
    "    dvar = variable[..., 2:] - variable[..., 1:-1]\n",
    "    return dvar/dt\n",
    "\n",
    "drhovdt_r = get_ddt(rhov_r)\n",
    "drhovdt_t = get_ddt(rhov_t)\n",
    "drhovdt_p = get_ddt(rhov_p)\n",
    "dintedt = get_ddt(inte)"
   ]
  },
  {
   "cell_type": "code",
   "execution_count": 15,
   "id": "54d2a5f8",
   "metadata": {},
   "outputs": [],
   "source": [
    "# start getting weighted rhs (momentum)\n",
    "\n",
    "def get_weighted_rhs(fimp, fexp):\n",
    "    return 0.5*(fimp[..., 2:] + fimp[..., 1:-1]) + fexp[..., 1:-1] +\\\n",
    "        0.5*(dt/dt_old)*(fexp[..., 1:-1] - fexp[..., :-2])\n",
    "\n",
    "fweighted_r = get_weighted_rhs(fimp_r, fexp_r)\n",
    "fweighted_t = get_weighted_rhs(fimp_t, fexp_t)\n",
    "fweighted_p = get_weighted_rhs(fimp_p, fexp_p)\n",
    "fweighted_heat = get_weighted_rhs(fimp_heat, fexp_heat)"
   ]
  },
  {
   "cell_type": "code",
   "execution_count": 16,
   "id": "cefa9031",
   "metadata": {},
   "outputs": [
    {
     "data": {
      "text/plain": [
       "Text(0.5, 1.0, 'momentum (r)')"
      ]
     },
     "execution_count": 16,
     "metadata": {},
     "output_type": "execute_result"
    },
    {
     "data": {
      "image/png": "[encoded data removed]",
      "text/plain": [
       "<Figure size 432x288 with 1 Axes>"
      ]
     },
     "metadata": {
      "needs_background": "light"
     },
     "output_type": "display_data"
    }
   ],
   "source": [
    "# plot r momentum (all pieces)\n",
    "\n",
    "# pieces\n",
    "plt.plot(t, adv_r[iphi0, it0, ir0, :], label='adv')\n",
    "plt.plot(t, cor_r[iphi0, it0, ir0, :], label='cor')\n",
    "plt.plot(t, gradp_r[iphi0, it0, ir0, :], label='gradp')\n",
    "plt.plot(t, visc_r[iphi0, it0, ir0, :], label='visc')\n",
    "if mag:\n",
    "    plt.plot(t, jxb_r[iphi0, it0, ir0, :], label='J x B')\n",
    "\n",
    "# totals\n",
    "plt.plot(t[2:], drhovdt_r[iphi0, it0, ir0, :], 'k', label='drhov_r /dt (numderiv)')\n",
    "plt.plot(t[2:], fweighted_r[iphi0, it0, ir0, :], 'r--', label='weighted RHS')\n",
    "\n",
    "# label\n",
    "plt.legend()\n",
    "plt.xlabel('time (prot)')\n",
    "plt.ylabel('force (c.g.s.)')\n",
    "plt.title('momentum (r)')"
   ]
  },
  {
   "cell_type": "code",
   "execution_count": 17,
   "id": "fe838b07",
   "metadata": {
    "scrolled": true
   },
   "outputs": [
    {
     "data": {
      "text/plain": [
       "Text(0.5, 1.0, 'momentum totals (r)')"
      ]
     },
     "execution_count": 17,
     "metadata": {},
     "output_type": "execute_result"
    },
    {
     "data": {
      "image/png": "[encoded data removed]",
      "text/plain": [
       "<Figure size 432x288 with 1 Axes>"
      ]
     },
     "metadata": {
      "needs_background": "light"
     },
     "output_type": "display_data"
    }
   ],
   "source": [
    "# plot r momentum (totals)\n",
    "plt.plot(t[2:], drhovdt_r[iphi0, it0, ir0, :], 'k', label='drhov_r /dt (numderiv)')\n",
    "plt.plot(t[2:], fweighted_r[iphi0, it0, ir0, :], 'r--', label='weighted RHS')\n",
    "\n",
    "# label\n",
    "plt.legend()\n",
    "plt.xlabel('time (prot)')\n",
    "plt.ylabel('force (c.g.s.)')\n",
    "plt.title('momentum totals (r)')"
   ]
  },
  {
   "cell_type": "code",
   "execution_count": 18,
   "id": "284706d5",
   "metadata": {},
   "outputs": [
    {
     "data": {
      "text/plain": [
       "Text(0.5, 1.0, 'momentum (t)')"
      ]
     },
     "execution_count": 18,
     "metadata": {},
     "output_type": "execute_result"
    },
    {
     "data": {
      "image/png": "[encoded data removed]",
      "text/plain": [
       "<Figure size 432x288 with 1 Axes>"
      ]
     },
     "metadata": {
      "needs_background": "light"
     },
     "output_type": "display_data"
    }
   ],
   "source": [
    "# plot theta momentum (all pieces)\n",
    "\n",
    "# pieces\n",
    "plt.plot(t, adv_t[iphi0, it0, ir0, :], label='adv')\n",
    "plt.plot(t, cor_t[iphi0, it0, ir0, :], label='cor')\n",
    "plt.plot(t, gradp_t[iphi0, it0, ir0, :], label='gradp')\n",
    "plt.plot(t, visc_t[iphi0, it0, ir0, :], label='visc')\n",
    "if mag:\n",
    "    plt.plot(t, jxb_t[iphi0, it0, ir0, :], label='J x B')\n",
    "    \n",
    "# totals\n",
    "plt.plot(t[2:], drhovdt_t[iphi0, it0, ir0, :], 'k', label='drhov_t /dt (numderiv)')\n",
    "plt.plot(t[2:], fweighted_t[iphi0, it0, ir0, :], 'r--', label='weighted RHS')\n",
    "\n",
    "# label\n",
    "plt.legend()\n",
    "plt.xlabel('time (prot)')\n",
    "plt.ylabel('force (c.g.s.)')\n",
    "plt.title('momentum (t)')"
   ]
  },
  {
   "cell_type": "code",
   "execution_count": 19,
   "id": "af3261d9",
   "metadata": {
    "scrolled": false
   },
   "outputs": [
    {
     "data": {
      "text/plain": [
       "Text(0.5, 1.0, 'momentum totals (t)')"
      ]
     },
     "execution_count": 19,
     "metadata": {},
     "output_type": "execute_result"
    },
    {
     "data": {
      "image/png": "[encoded data removed]",
      "text/plain": [
       "<Figure size 432x288 with 1 Axes>"
      ]
     },
     "metadata": {
      "needs_background": "light"
     },
     "output_type": "display_data"
    }
   ],
   "source": [
    "# plot theta momentum (totals)\n",
    "plt.plot(t[2:], drhovdt_t[iphi0, it0, ir0, :], 'k', label='drhov_t /dt (numderiv)')\n",
    "plt.plot(t[2:], fweighted_t[iphi0, it0, ir0, :], 'r--', label='weighted RHS')\n",
    "\n",
    "# label\n",
    "plt.legend()\n",
    "plt.xlabel('time (prot)')\n",
    "plt.ylabel('force (c.g.s.)')\n",
    "plt.title('momentum totals (t)')"
   ]
  },
  {
   "cell_type": "code",
   "execution_count": 20,
   "id": "6ada3b34",
   "metadata": {},
   "outputs": [
    {
     "data": {
      "text/plain": [
       "Text(0.5, 1.0, 'momentum (p)')"
      ]
     },
     "execution_count": 20,
     "metadata": {},
     "output_type": "execute_result"
    },
    {
     "data": {
      "image/png": "[encoded data removed]",
      "text/plain": [
       "<Figure size 432x288 with 1 Axes>"
      ]
     },
     "metadata": {
      "needs_background": "light"
     },
     "output_type": "display_data"
    }
   ],
   "source": [
    "# plot phi momentum (all pieces)\n",
    "\n",
    "# pieces\n",
    "plt.plot(t, adv_p[iphi0, it0, ir0, :], label='adv')\n",
    "plt.plot(t, cor_p[iphi0, it0, ir0, :], label='cor')\n",
    "plt.plot(t, gradp_p[iphi0, it0, ir0, :], label='gradp')\n",
    "plt.plot(t, visc_p[iphi0, it0, ir0, :], label='visc')\n",
    "if mag:\n",
    "    plt.plot(t, jxb_p[iphi0, it0, ir0, :], label='J x B')\n",
    "    \n",
    "# totals\n",
    "plt.plot(t[2:], drhovdt_p[iphi0, it0, ir0, :], 'k', label='drhov_p /dt (numderiv)')\n",
    "plt.plot(t[2:], fweighted_p[iphi0, it0, ir0, :], 'r--', label='weighted RHS')\n",
    "\n",
    "# label\n",
    "plt.legend()\n",
    "plt.xlabel('time (prot)')\n",
    "plt.ylabel('force (c.g.s.)')\n",
    "plt.title('momentum (p)')"
   ]
  },
  {
   "cell_type": "code",
   "execution_count": 21,
   "id": "e8cb10c2",
   "metadata": {
    "scrolled": true
   },
   "outputs": [
    {
     "data": {
      "text/plain": [
       "Text(0.5, 1.0, 'momentum totals (p)')"
      ]
     },
     "execution_count": 21,
     "metadata": {},
     "output_type": "execute_result"
    },
    {
     "data": {
      "image/png": "[encoded data removed]",
      "text/plain": [
       "<Figure size 432x288 with 1 Axes>"
      ]
     },
     "metadata": {
      "needs_background": "light"
     },
     "output_type": "display_data"
    }
   ],
   "source": [
    "# plot phi momentum (totals)\n",
    "plt.plot(t[2:], drhovdt_p[iphi0, it0, ir0, :], 'k', label='drhov_p /dt (numderiv)')\n",
    "plt.plot(t[2:], fweighted_p[iphi0, it0, ir0, :], 'r--', label='weighted RHS')\n",
    "\n",
    "# label\n",
    "plt.legend()\n",
    "plt.xlabel('time (prot)')\n",
    "plt.ylabel('force (c.g.s.)')\n",
    "plt.title('momentum totals (p)')"
   ]
  },
  {
   "cell_type": "code",
   "execution_count": 22,
   "id": "07c10de3",
   "metadata": {},
   "outputs": [
    {
     "data": {
      "text/plain": [
       "Text(0.5, 1.0, 'heat eq.')"
      ]
     },
     "execution_count": 22,
     "metadata": {},
     "output_type": "execute_result"
    },
    {
     "data": {
      "image/png": "[encoded data removed]",
      "text/plain": [
       "<Figure size 432x288 with 1 Axes>"
      ]
     },
     "metadata": {
      "needs_background": "light"
     },
     "output_type": "display_data"
    }
   ],
   "source": [
    "# plot heat equation (all pieces)\n",
    "\n",
    "# pieces\n",
    "plt.plot(t, adv_heat[iphi0, it0, ir0, :], label='adv')\n",
    "plt.plot(t, visc_heat[iphi0, it0, ir0, :], label='visc')\n",
    "plt.plot(t, int_heat[iphi0, it0, ir0, :], label='Q(r)')\n",
    "plt.plot(t, cond_heat[iphi0, it0, ir0, :], label='cond')\n",
    "if advect_ref:\n",
    "    plt.plot(t, ref_adv_heat[iphi0, it0, ir0, :], label='rho T dS/dr')\n",
    "if mag:\n",
    "    plt.plot(t, joule_heat[iphi0, it0, ir0, :], label='Joule')\n",
    "    \n",
    "# totals\n",
    "plt.plot(t[2:], dintedt[iphi0, it0, ir0, :], 'k', label='d (rho T S) /dt (numderiv)')\n",
    "plt.plot(t[2:], fweighted_heat[iphi0, it0, ir0, :], 'r--', label='weighted RHS')\n",
    "\n",
    "# label\n",
    "plt.legend()\n",
    "plt.xlabel('time (prot)')\n",
    "plt.ylabel('heating (c.g.s.)')\n",
    "plt.title('heat eq.')"
   ]
  },
  {
   "cell_type": "code",
   "execution_count": 23,
   "id": "017a1953",
   "metadata": {},
   "outputs": [
    {
     "data": {
      "text/plain": [
       "Text(0.5, 1.0, 'heat eq. totals')"
      ]
     },
     "execution_count": 23,
     "metadata": {},
     "output_type": "execute_result"
    },
    {
     "data": {
      "image/png": "[encoded data removed]",
      "text/plain": [
       "<Figure size 432x288 with 1 Axes>"
      ]
     },
     "metadata": {
      "needs_background": "light"
     },
     "output_type": "display_data"
    }
   ],
   "source": [
    "# plot heat equation (totals)\n",
    "\n",
    "# totals\n",
    "plt.plot(t[2:], dintedt[iphi0, it0, ir0, :], 'k', label='d (rho T S) /dt (numderiv)')\n",
    "plt.plot(t[2:], fweighted_heat[iphi0, it0, ir0, :], 'r--', label='weighted RHS')\n",
    "\n",
    "# label\n",
    "plt.legend()\n",
    "plt.xlabel('time (prot)')\n",
    "plt.ylabel('heating (c.g.s.)')\n",
    "plt.title('heat eq. totals')"
   ]
  },
  {
   "cell_type": "code",
   "execution_count": 24,
   "id": "1c136b08",
   "metadata": {},
   "outputs": [],
   "source": [
    "# quantify the numerical errors\n",
    "def get_err(diff, norm, point=None, ir=None, itheta=None, iphi=None):\n",
    "    if not point is None:\n",
    "        iphi, itheta, ir = point\n",
    "    \n",
    "    # make everything an array\n",
    "    if np.isscalar(iphi):\n",
    "        iphi = np.array([iphi])\n",
    "    if np.isscalar(itheta):\n",
    "        itheta = np.array([itheta])\n",
    "    if np.isscalar(ir):\n",
    "        ir = np.array([ir])\n",
    "        \n",
    "    nphi, ntheta, nr, ntimes = np.shape(diff)\n",
    "    if iphi is None: # all indices, default\n",
    "        iphi = np.arange(nphi)\n",
    "    if itheta is None: # all indices, default\n",
    "        itheta = np.arange(ntheta)\n",
    "    if ir is None: # all indices, default\n",
    "        ir = np.arange(nr)        \n",
    "\n",
    "    # compute rms via for loop, weight all points (including times) equally\n",
    "    numer = 0.0\n",
    "    denom = 0.0\n",
    "    count = 0\n",
    "    for iphi_loc in iphi:\n",
    "        for itheta_loc in itheta:\n",
    "            for ir_loc in ir:\n",
    "                for it_loc in range(ntimes):\n",
    "                    numer += diff[iphi_loc, itheta_loc, ir_loc, it_loc]**2\n",
    "                    denom += norm[iphi_loc, itheta_loc, ir_loc, it_loc]**2\n",
    "                    count += 1\n",
    "    numer /= count\n",
    "    denom /= count # not that this matters...\n",
    "    return np.sqrt(numer)/np.sqrt(denom)"
   ]
  },
  {
   "cell_type": "code",
   "execution_count": 25,
   "id": "3772580a",
   "metadata": {},
   "outputs": [
    {
     "name": "stdout",
     "output_type": "stream",
     "text": [
      "err mom r =  4.227818599363145\n",
      "err mom t =  0.8680168434504185\n",
      "err mom p =  0.9128251708481653\n",
      "err heat  =  4.596715561189902\n"
     ]
    }
   ],
   "source": [
    "# stringent error, at the point we plotted\n",
    "print (\"err mom r = \", get_err(fweighted_r - drhovdt_r, fweighted_r, point=(iphi0, it0, ir0)))\n",
    "print (\"err mom t = \", get_err(fweighted_t - drhovdt_t, fweighted_t, point=(iphi0, it0, ir0)))\n",
    "print (\"err mom p = \", get_err(fweighted_p - drhovdt_p, fweighted_p, point=(iphi0, it0, ir0)))\n",
    "print (\"err heat  = \", get_err(fweighted_heat - dintedt, fweighted_heat, point=(iphi0, it0, ir0)))"
   ]
  },
  {
   "cell_type": "code",
   "execution_count": 26,
   "id": "037ec943",
   "metadata": {},
   "outputs": [
    {
     "name": "stdout",
     "output_type": "stream",
     "text": [
      "err mom r =  7.770601951744936e-05\n",
      "err mom t =  0.00025427718277691157\n",
      "err mom p =  0.0027421249706987764\n",
      "err heat  =  0.0036376647999022023\n"
     ]
    }
   ],
   "source": [
    "# errors (w.r.t. maxabs) at the point we plotted\n",
    "print (\"err mom r = \", get_err(fweighted_r - drhovdt_r, maxabs_r[2:], point=(iphi0, it0, ir0)))\n",
    "print (\"err mom t = \", get_err(fweighted_t - drhovdt_t, maxabs_t[2:], point=(iphi0, it0, ir0)))\n",
    "print (\"err mom p = \", get_err(fweighted_p - drhovdt_p, maxabs_p[2:], point=(iphi0, it0, ir0)))\n",
    "print (\"err heat  = \", get_err(fweighted_heat - dintedt, maxabs_heat[2:], point=(iphi0, it0, ir0)))"
   ]
  },
  {
   "cell_type": "code",
   "execution_count": 27,
   "id": "c2aaa455",
   "metadata": {},
   "outputs": [
    {
     "name": "stdout",
     "output_type": "stream",
     "text": [
      "err mom r =  0.0543368458181292\n",
      "err mom t =  0.171351697847018\n",
      "err mom p =  0.19879035666686484\n",
      "err heat  =  0.028888394935550534\n"
     ]
    }
   ],
   "source": [
    "# stringent errors over whole shell\n",
    "print (\"err mom r = \", get_err(fweighted_r - drhovdt_r, fweighted_r))\n",
    "print (\"err mom t = \", get_err(fweighted_t - drhovdt_t, fweighted_t))\n",
    "print (\"err mom p = \", get_err(fweighted_p - drhovdt_p, fweighted_p))\n",
    "print (\"err heat  = \", get_err(fweighted_heat - dintedt, fweighted_heat))"
   ]
  },
  {
   "cell_type": "code",
   "execution_count": 28,
   "id": "6de9cddb",
   "metadata": {},
   "outputs": [
    {
     "name": "stdout",
     "output_type": "stream",
     "text": [
      "err mom r =  1.592288769307838e-05\n",
      "err mom t =  9.824146768102734e-05\n",
      "err mom p =  5.493298976386845e-05\n",
      "err heat  =  0.0004784712837704793\n"
     ]
    }
   ],
   "source": [
    "# errors over whole shell (w.r.t. maxabs)\n",
    "print (\"err mom r = \", get_err(fweighted_r - drhovdt_r, maxabs_r[..., 2:]))\n",
    "print (\"err mom t = \", get_err(fweighted_t - drhovdt_t, maxabs_t[..., 2:]))\n",
    "print (\"err mom p = \", get_err(fweighted_p - drhovdt_p, maxabs_p[..., 2:]))\n",
    "print (\"err heat  = \", get_err(fweighted_heat - dintedt, maxabs_heat[..., 2:]))"
   ]
  },
  {
   "cell_type": "code",
   "execution_count": 29,
   "id": "cd45b79d",
   "metadata": {
    "scrolled": true
   },
   "outputs": [
    {
     "data": {
      "image/png": "[encoded data removed]",
      "text/plain": [
       "<Figure size 720x720 with 4 Axes>"
      ]
     },
     "metadata": {
      "needs_background": "light"
     },
     "output_type": "display_data"
    }
   ],
   "source": [
    "# stringent error at each radius, averaged horizontally, for each equation\n",
    "fig, axs = plt.subplots(2, 2, sharex=True, figsize=(10,10))\n",
    "count = 0\n",
    "for irow in range(2):\n",
    "    for icol in range(2):\n",
    "        if count == 0:\n",
    "            diff = fweighted_r - drhovdt_r\n",
    "            fweighted = fweighted_r\n",
    "            label= 'mom (r)'\n",
    "        if count == 1:\n",
    "            diff = fweighted_t - drhovdt_t\n",
    "            fweighted = fweighted_t\n",
    "            label= 'mom (t)'\n",
    "        if count == 2:\n",
    "            diff = fweighted_p - drhovdt_p\n",
    "            fweighted = fweighted_p\n",
    "            label= 'mom (p)'\n",
    "        if count == 3:\n",
    "            diff = fweighted_heat - dintedt\n",
    "            fweighted = fweighted_heat\n",
    "            label= '(heat)'\n",
    "            \n",
    "        errs = []\n",
    "        for i in range(len(irvals)):\n",
    "            #print ('ir = %i:' %i, 'err = ', get_err(fweighted_r - drhovdt_r, fweighted_r, ir=i))\n",
    "            errs.append(get_err(diff, fweighted, ir=i))\n",
    "\n",
    "        plt.sca(axs[irow, icol])\n",
    "        plt.scatter(pp.radius, errs)\n",
    "        plt.xlabel('rad')\n",
    "        plt.ylabel('rms err')\n",
    "        plt.yscale('log')\n",
    "        plt.title(label + ' errors at different radii')\n",
    "        count += 1\n",
    "plt.suptitle(dirtag)\n",
    "plt.tight_layout()\n",
    "\n",
    "if savefig:\n",
    "    savedir = '/home1/lmatilsk/equation_test_figs/'\n",
    "    plt.savefig(savedir + 'mom_' + dirtag + '.pdf')"
   ]
  },
  {
   "cell_type": "code",
   "execution_count": null,
   "id": "bb9b80d4",
   "metadata": {},
   "outputs": [],
   "source": [
    "# stringent error at each theta, averaged in r and phi\n",
    "fig, axs = plt.subplots(2, 2, sharex=True, figsize=(10,10))\n",
    "count = 0\n",
    "for irow in range(2):\n",
    "    for icol in range(2):\n",
    "        if count == 0:\n",
    "            diff = fweighted_r - drhovdt_r\n",
    "            fweighted = fweighted_r\n",
    "            label= 'mom (r)'\n",
    "        if count == 1:\n",
    "            diff = fweighted_t - drhovdt_t\n",
    "            fweighted = fweighted_t\n",
    "            label= 'mom (t)'\n",
    "        if count == 2:\n",
    "            diff = fweighted_p - drhovdt_p\n",
    "            fweighted = fweighted_p\n",
    "            label= 'mom (p)'\n",
    "        if count == 3:\n",
    "            diff = fweighted_heat - dintedt\n",
    "            fweighted = fweighted_heat\n",
    "            label= '(heat)'\n",
    "            \n",
    "        errs = []\n",
    "        for i in range(len(ithetavals)):\n",
    "            #print ('ir = %i:' %i, 'err = ', get_err(fweighted_r - drhovdt_r, fweighted_r, ir=i))\n",
    "            errs.append(get_err(diff, fweighted, itheta=i))\n",
    "\n",
    "        plt.sca(axs[irow, icol])\n",
    "        plt.scatter(ithetavals, errs)\n",
    "        plt.xlabel('theta_ind')\n",
    "        plt.ylabel('rms err')\n",
    "        plt.yscale('log')\n",
    "        plt.title(label + ' errors at different theta')\n",
    "        count += 1\n",
    "plt.suptitle(dirtag)\n",
    "plt.tight_layout()"
   ]
  },
  {
   "cell_type": "code",
   "execution_count": null,
   "id": "a9151678",
   "metadata": {},
   "outputs": [],
   "source": [
    "# stringent error at each phi, averaged in meridional planes\n",
    "fig, axs = plt.subplots(2, 2, sharex=True, figsize=(10,10))\n",
    "count = 0\n",
    "for irow in range(2):\n",
    "    for icol in range(2):\n",
    "        if count == 0:\n",
    "            diff = fweighted_r - drhovdt_r\n",
    "            fweighted = fweighted_r\n",
    "            label= 'mom (r)'\n",
    "        if count == 1:\n",
    "            diff = fweighted_t - drhovdt_t\n",
    "            fweighted = fweighted_t\n",
    "            label= 'mom (t)'\n",
    "        if count == 2:\n",
    "            diff = fweighted_p - drhovdt_p\n",
    "            fweighted = fweighted_p\n",
    "            label= 'mom (p)'\n",
    "        if count == 3:\n",
    "            diff = fweighted_heat - dintedt\n",
    "            fweighted = fweighted_heat\n",
    "            label= '(heat)'\n",
    "            \n",
    "        errs = []\n",
    "        for i in range(len(iphivals)):\n",
    "            #print ('ir = %i:' %i, 'err = ', get_err(fweighted_r - drhovdt_r, fweighted_r, ir=i))\n",
    "            errs.append(get_err(diff, fweighted, iphi=i))\n",
    "\n",
    "        plt.sca(axs[irow, icol])\n",
    "        plt.scatter(iphivals, errs)\n",
    "        plt.xlabel('phi_ind')\n",
    "        plt.ylabel('rms err')\n",
    "        plt.yscale('log')\n",
    "        plt.title(label + ' errors at different phi')\n",
    "        count += 1\n",
    "plt.suptitle(dirtag)\n",
    "plt.tight_layout()"
   ]
  },
  {
   "cell_type": "code",
   "execution_count": null,
   "id": "916e2fb2",
   "metadata": {},
   "outputs": [],
   "source": []
  }
 ],
 "metadata": {
  "kernelspec": {
   "display_name": "Python 3",
   "language": "python",
   "name": "python3"
  },
  "language_info": {
   "codemirror_mode": {
    "name": "ipython",
    "version": 3
   },
   "file_extension": ".py",
   "mimetype": "text/x-python",
   "name": "python",
   "nbconvert_exporter": "python",
   "pygments_lexer": "ipython3",
   "version": "3.7.10"
  }
 },
 "nbformat": 4,
 "nbformat_minor": 5
}
