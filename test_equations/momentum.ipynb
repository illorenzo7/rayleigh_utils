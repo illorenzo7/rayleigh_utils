{
 "cells": [
  {
   "cell_type": "code",
   "execution_count": 1,
   "id": "75471414",
   "metadata": {},
   "outputs": [],
   "source": [
    "import matplotlib.pyplot as plt\n",
    "import numpy as np\n",
    "import sys, os\n",
    "sys.path.append(os.environ['raco'])\n",
    "sys.path.append(os.environ['rapp'])\n",
    "sys.path.append(os.environ['rapl'])\n",
    "from common import *\n",
    "from plotcommon import *\n",
    "from cla_util import *\n",
    "from rayleigh_diagnostics import GridInfo"
   ]
  },
  {
   "cell_type": "code",
   "execution_count": 2,
   "id": "050f6415",
   "metadata": {},
   "outputs": [],
   "source": [
    "dirname = '/nobackup/lmatilsk/benchmarks/c2001_case0/00_test_equations_1k_iter/'"
   ]
  },
  {
   "cell_type": "code",
   "execution_count": 3,
   "id": "6a8f91a8",
   "metadata": {},
   "outputs": [
    {
     "name": "stdout",
     "output_type": "stream",
     "text": [
      "the_file =  /nobackup/lmatilsk/benchmarks/c2001_case0/00_test_equations_1k_iter/data/Point_Probes_trace-00101000_00101000.pkl\n"
     ]
    }
   ],
   "source": [
    "the_file = get_widest_range_file (dirname + 'data/', 'Point_Probes_trace')\n",
    "print ('the_file = ', the_file)"
   ]
  },
  {
   "cell_type": "code",
   "execution_count": 4,
   "id": "4d8ace04",
   "metadata": {},
   "outputs": [
    {
     "name": "stdout",
     "output_type": "stream",
     "text": [
      "nphi = 128\n",
      "iphivals =  [  0  16  32  48  63  79  95 111]\n",
      "ntheta = 64\n",
      "ithetavals =  [ 3  8 16 24 32 39 47 55 60]\n",
      "nr = 48\n",
      "irvals =  [ 4  7 11 13 15 18 20 21 22 23 24 25 27 29 32 34 36 40 43]\n"
     ]
    }
   ],
   "source": [
    "# get point probes data\n",
    "di = get_dict(the_file)\n",
    "vals = di['vals']\n",
    "\n",
    "times = di['times']\n",
    "dt = times[2:] - times[1:-1]\n",
    "dt = dt.reshape((len(dt), 1, 1, 1))\n",
    "dt_old = times[1:-1] - times[:-2]\n",
    "dt_old = dt_old.reshape((len(dt_old), 1, 1, 1))\n",
    "\n",
    "iters = di['iters']\n",
    "lut = di['lut']\n",
    "rvals = di['rvals']\n",
    "thetavals = di['thetavals']\n",
    "phivals = di['phivals']\n",
    "\n",
    "# get grid info\n",
    "di_grid = get_grid_info(dirname)\n",
    "rr = di_grid['rr']\n",
    "tt = di_grid['tt']\n",
    "phi = di_grid['phi']\n",
    "tt_lat = di_grid['tt_lat']\n",
    "lons = di_grid['lons']\n",
    "\n",
    "irvals = inds_from_vals(rr, rvals)\n",
    "ithetavals = inds_from_vals(tt, thetavals)\n",
    "iphivals = inds_from_vals(phi, phivals)\n",
    "\n",
    "print ('nphi =', di_grid['nphi'])\n",
    "print ('iphivals = ', iphivals)\n",
    "\n",
    "print ('ntheta =', di_grid['nt'])\n",
    "print ('ithetavals = ', ithetavals)\n",
    "\n",
    "print('nr =', di_grid['nr'])\n",
    "print ('irvals = ', irvals)"
   ]
  },
  {
   "cell_type": "code",
   "execution_count": 5,
   "id": "c84673f4",
   "metadata": {},
   "outputs": [
    {
     "name": "stdout",
     "output_type": "stream",
     "text": [
      "(8, 9, 19)\n"
     ]
    }
   ],
   "source": [
    "print (np.shape(vals[0, ..., 0]))"
   ]
  },
  {
   "cell_type": "code",
   "execution_count": 6,
   "id": "c4d8990e",
   "metadata": {},
   "outputs": [],
   "source": [
    "# pick a point\n",
    "#iphi0, it0, ir0 = 4, 5, 11\n",
    "iphi0, it0, ir0 = 5, 2, 0"
   ]
  },
  {
   "cell_type": "code",
   "execution_count": 7,
   "id": "61630755",
   "metadata": {},
   "outputs": [],
   "source": [
    "prot = compute_Prot(dirname)\n",
    "t = times/prot"
   ]
  },
  {
   "cell_type": "code",
   "execution_count": 33,
   "id": "9d8aeced",
   "metadata": {},
   "outputs": [
    {
     "name": "stdout",
     "output_type": "stream",
     "text": [
      "9.999999999976694e-05\n",
      "0.0\n",
      "1000\n"
     ]
    }
   ],
   "source": [
    "print(np.mean(np.diff(times)))\n",
    "print(np.std(np.diff(times)))\n",
    "print (len(times))"
   ]
  },
  {
   "cell_type": "code",
   "execution_count": 9,
   "id": "64185ce6",
   "metadata": {},
   "outputs": [],
   "source": [
    "def my_maxabs(*args):\n",
    "    the_shape = np.shape(args[0])\n",
    "    maxabs = np.zeros(the_shape) - np.inf\n",
    "    for arg in args:\n",
    "        maxabs = np.maximum(maxabs, arg)\n",
    "    return maxabs"
   ]
  },
  {
   "cell_type": "code",
   "execution_count": 10,
   "id": "96fe0d93",
   "metadata": {},
   "outputs": [],
   "source": [
    "# r momentum \n",
    "rhov_r = vals[..., lut[201]]\n",
    "\n",
    "adv_r = -vals[..., lut[1201]]\n",
    "cor_r = vals[..., lut[1219]]\n",
    "fexp_r = adv_r + cor_r\n",
    "\n",
    "visc_r = vals[..., lut[1228]]\n",
    "gradp_r = vals[..., lut[1237]]\n",
    "buoy = vals[..., lut[1216]]\n",
    "fimp_r = buoy + visc_r + gradp_r\n",
    "\n",
    "# max abs (to normalize later)\n",
    "maxabs_r = my_maxabs(np.abs(adv_r), np.abs(cor_r), np.abs(visc_r), np.abs(gradp_r))"
   ]
  },
  {
   "cell_type": "code",
   "execution_count": 11,
   "id": "bd8f428d",
   "metadata": {},
   "outputs": [],
   "source": [
    "# theta momentum\n",
    "rhov_t = vals[..., lut[202]]\n",
    "\n",
    "adv_t = -vals[..., lut[1202]]\n",
    "cor_t = vals[..., lut[1220]]\n",
    "fexp_t = adv_t + cor_t\n",
    "\n",
    "visc_t = vals[..., lut[1229]]\n",
    "gradp_t = vals[..., lut[1238]]\n",
    "fimp_t = visc_t + gradp_t\n",
    "\n",
    "maxabs_t = my_maxabs(np.abs(adv_t), np.abs(cor_t), np.abs(visc_t), np.abs(gradp_t))"
   ]
  },
  {
   "cell_type": "code",
   "execution_count": 12,
   "id": "71d820f3",
   "metadata": {},
   "outputs": [],
   "source": [
    "# phi momentum\n",
    "rhov_p = vals[..., lut[203]]\n",
    "\n",
    "adv_p = -vals[..., lut[1203]]\n",
    "cor_p = vals[..., lut[1221]]\n",
    "fexp_p = adv_p + cor_p\n",
    "\n",
    "visc_p = vals[..., lut[1230]]\n",
    "gradp_p = vals[..., lut[1239]]\n",
    "fimp_p = visc_p + gradp_p\n",
    "\n",
    "maxabs_p = my_maxabs(np.abs(adv_p), np.abs(cor_p), np.abs(visc_p), np.abs(gradp_p))"
   ]
  },
  {
   "cell_type": "code",
   "execution_count": 13,
   "id": "4752d010",
   "metadata": {},
   "outputs": [],
   "source": [
    "# heat equation\n",
    "inte = vals[..., lut[701]]\n",
    "dy = inte[2:] - inte[1:-1]\n",
    "dintedt = dy/dt\n",
    "\n",
    "adv_heat = -vals[..., lut[1401]]\n",
    "int_heat = vals[..., lut[1434]]\n",
    "visc_heat = vals[..., lut[1435]]\n",
    "fexp_heat = adv_heat + int_heat + visc_heat\n",
    "\n",
    "ref_adv_heat = -vals[..., lut[1479]]\n",
    "cond_heat = vals[..., lut[1421]]\n",
    "fimp_heat = ref_adv_heat + cond_heat\n",
    "\n",
    "maxabs_heat = my_maxabs(np.abs(adv_heat), np.abs(int_heat), np.abs(visc_heat),\\\n",
    "                        np.abs(ref_adv_heat), cond_heat)"
   ]
  },
  {
   "cell_type": "code",
   "execution_count": 14,
   "id": "86d92f3b",
   "metadata": {},
   "outputs": [],
   "source": [
    "# get d lhs / dt (momentum, heat)\n",
    "dy = rhov_r[2:] - rhov_r[1:-1]\n",
    "drhovdt_r = dy/dt\n",
    "\n",
    "dy = rhov_t[2:] - rhov_t[1:-1]\n",
    "drhovdt_t = dy/dt\n",
    "\n",
    "dy = rhov_p[2:] - rhov_p[1:-1]\n",
    "drhovdt_p = dy/dt\n",
    "\n",
    "dy = inte[2:] - inte[1:-1]\n",
    "dintedt = dy/dt"
   ]
  },
  {
   "cell_type": "code",
   "execution_count": 15,
   "id": "54d2a5f8",
   "metadata": {},
   "outputs": [],
   "source": [
    "# start getting weighted rhs (momentum)\n",
    "\n",
    "def get_weighted_rhs(fimp, fexp):\n",
    "    return 0.5*(fimp[2:] + fimp[1:-1]) + fexp[1:-1] + 0.5*(dt/dt_old)*(fexp[1:-1] - fexp[:-2])\n",
    "\n",
    "fweighted_r = get_weighted_rhs(fimp_r, fexp_r)\n",
    "fweighted_t = get_weighted_rhs(fimp_t, fexp_t)\n",
    "fweighted_p = get_weighted_rhs(fimp_p, fexp_p)\n",
    "fweighted_heat = get_weighted_rhs(fimp_heat, fexp_heat)"
   ]
  },
  {
   "cell_type": "code",
   "execution_count": 16,
   "id": "cefa9031",
   "metadata": {},
   "outputs": [
    {
     "data": {
      "text/plain": [
       "Text(0.5, 1.0, 'momentum (r)')"
      ]
     },
     "execution_count": 16,
     "metadata": {},
     "output_type": "execute_result"
    },
    {
     "data": {
      "image/png": "[encoded data removed]",
      "text/plain": [
       "<Figure size 432x288 with 1 Axes>"
      ]
     },
     "metadata": {
      "needs_background": "light"
     },
     "output_type": "display_data"
    }
   ],
   "source": [
    "# plot r momentum (all pieces)\n",
    "\n",
    "# pieces\n",
    "plt.plot(t, adv_r[:, iphi0, it0, ir0], label='adv')\n",
    "plt.plot(t, cor_r[:, iphi0, it0, ir0], label='cor')\n",
    "plt.plot(t, gradp_r[:, iphi0, it0, ir0], label='gradp')\n",
    "plt.plot(t, visc_r[:, iphi0, it0, ir0], label='visc')\n",
    "\n",
    "# totals\n",
    "plt.plot(t[2:], drhovdt_r[:, iphi0, it0, ir0], 'k', label='drhov_r /dt (numderiv)')\n",
    "plt.plot(t[2:], fweighted_r[:, iphi0, it0, ir0], 'r--', label='weighted RHS')\n",
    "\n",
    "# label\n",
    "plt.legend()\n",
    "plt.xlabel('time (prot)')\n",
    "plt.ylabel('force (c.g.s.)')\n",
    "plt.title('momentum (r)')"
   ]
  },
  {
   "cell_type": "code",
   "execution_count": 17,
   "id": "fe838b07",
   "metadata": {
    "scrolled": true
   },
   "outputs": [
    {
     "data": {
      "text/plain": [
       "Text(0.5, 1.0, 'momentum totals (r)')"
      ]
     },
     "execution_count": 17,
     "metadata": {},
     "output_type": "execute_result"
    },
    {
     "data": {
      "image/png": "[encoded data removed]",
      "text/plain": [
       "<Figure size 432x288 with 1 Axes>"
      ]
     },
     "metadata": {
      "needs_background": "light"
     },
     "output_type": "display_data"
    }
   ],
   "source": [
    "# plot r momentum (totals)\n",
    "plt.plot(t[2:], drhovdt_r[:, iphi0, it0, ir0], 'k', label='drhov_r /dt (numderiv)')\n",
    "plt.plot(t[2:], fweighted_r[:, iphi0, it0, ir0], 'r--', label='weighted RHS')\n",
    "\n",
    "# label\n",
    "plt.legend()\n",
    "plt.xlabel('time (prot)')\n",
    "plt.ylabel('force (c.g.s.)')\n",
    "plt.title('momentum totals (r)')"
   ]
  },
  {
   "cell_type": "code",
   "execution_count": 18,
   "id": "284706d5",
   "metadata": {},
   "outputs": [
    {
     "data": {
      "text/plain": [
       "Text(0.5, 1.0, 'momentum (t)')"
      ]
     },
     "execution_count": 18,
     "metadata": {},
     "output_type": "execute_result"
    },
    {
     "data": {
      "image/png": "[encoded data removed]",
      "text/plain": [
       "<Figure size 432x288 with 1 Axes>"
      ]
     },
     "metadata": {
      "needs_background": "light"
     },
     "output_type": "display_data"
    }
   ],
   "source": [
    "# plot theta momentum (all pieces)\n",
    "\n",
    "# pieces\n",
    "plt.plot(t, adv_t[:, iphi0, it0, ir0], label='adv')\n",
    "plt.plot(t, cor_t[:, iphi0, it0, ir0], label='cor')\n",
    "plt.plot(t, gradp_t[:, iphi0, it0, ir0], label='gradp')\n",
    "plt.plot(t, visc_t[:, iphi0, it0, ir0], label='visc')\n",
    "\n",
    "# totals\n",
    "plt.plot(t[2:], drhovdt_t[:, iphi0, it0, ir0], 'k', label='drhov_t /dt (numderiv)')\n",
    "plt.plot(t[2:], fweighted_t[:, iphi0, it0, ir0], 'r--', label='weighted RHS')\n",
    "\n",
    "# label\n",
    "plt.legend()\n",
    "plt.xlabel('time (prot)')\n",
    "plt.ylabel('force (c.g.s.)')\n",
    "plt.title('momentum (t)')"
   ]
  },
  {
   "cell_type": "code",
   "execution_count": 19,
   "id": "af3261d9",
   "metadata": {
    "scrolled": false
   },
   "outputs": [
    {
     "data": {
      "text/plain": [
       "Text(0.5, 1.0, 'momentum totals (t)')"
      ]
     },
     "execution_count": 19,
     "metadata": {},
     "output_type": "execute_result"
    },
    {
     "data": {
      "image/png": "[encoded data removed]",
      "text/plain": [
       "<Figure size 432x288 with 1 Axes>"
      ]
     },
     "metadata": {
      "needs_background": "light"
     },
     "output_type": "display_data"
    }
   ],
   "source": [
    "# plot theta momentum (totals)\n",
    "plt.plot(t[2:], drhovdt_t[:, iphi0, it0, ir0], 'k', label='drhov_t /dt (numderiv)')\n",
    "plt.plot(t[2:], fweighted_t[:, iphi0, it0, ir0], 'r--', label='weighted RHS')\n",
    "\n",
    "# label\n",
    "plt.legend()\n",
    "plt.xlabel('time (prot)')\n",
    "plt.ylabel('force (c.g.s.)')\n",
    "plt.title('momentum totals (t)')"
   ]
  },
  {
   "cell_type": "code",
   "execution_count": 20,
   "id": "6ada3b34",
   "metadata": {},
   "outputs": [
    {
     "data": {
      "text/plain": [
       "Text(0.5, 1.0, 'momentum (p)')"
      ]
     },
     "execution_count": 20,
     "metadata": {},
     "output_type": "execute_result"
    },
    {
     "data": {
      "image/png": "[encoded data removed]",
      "text/plain": [
       "<Figure size 432x288 with 1 Axes>"
      ]
     },
     "metadata": {
      "needs_background": "light"
     },
     "output_type": "display_data"
    }
   ],
   "source": [
    "# plot phi momentum (all pieces)\n",
    "\n",
    "# pieces\n",
    "plt.plot(t, adv_p[:, iphi0, it0, ir0], label='adv')\n",
    "plt.plot(t, cor_p[:, iphi0, it0, ir0], label='cor')\n",
    "plt.plot(t, gradp_p[:, iphi0, it0, ir0], label='gradp')\n",
    "plt.plot(t, visc_p[:, iphi0, it0, ir0], label='visc')\n",
    "\n",
    "# totals\n",
    "plt.plot(t[2:], drhovdt_p[:, iphi0, it0, ir0], 'k', label='drhov_p /dt (numderiv)')\n",
    "plt.plot(t[2:], fweighted_p[:, iphi0, it0, ir0], 'r--', label='weighted RHS')\n",
    "\n",
    "# label\n",
    "plt.legend()\n",
    "plt.xlabel('time (prot)')\n",
    "plt.ylabel('force (c.g.s.)')\n",
    "plt.title('momentum (p)')"
   ]
  },
  {
   "cell_type": "code",
   "execution_count": 21,
   "id": "e8cb10c2",
   "metadata": {
    "scrolled": true
   },
   "outputs": [
    {
     "data": {
      "text/plain": [
       "Text(0.5, 1.0, 'momentum totals (p)')"
      ]
     },
     "execution_count": 21,
     "metadata": {},
     "output_type": "execute_result"
    },
    {
     "data": {
      "image/png": "[encoded data removed]",
      "text/plain": [
       "<Figure size 432x288 with 1 Axes>"
      ]
     },
     "metadata": {
      "needs_background": "light"
     },
     "output_type": "display_data"
    }
   ],
   "source": [
    "# plot phi momentum (totals)\n",
    "plt.plot(t[2:], drhovdt_p[:, iphi0, it0, ir0], 'k', label='drhov_p /dt (numderiv)')\n",
    "plt.plot(t[2:], fweighted_p[:, iphi0, it0, ir0], 'r--', label='weighted RHS')\n",
    "\n",
    "# label\n",
    "plt.legend()\n",
    "plt.xlabel('time (prot)')\n",
    "plt.ylabel('force (c.g.s.)')\n",
    "plt.title('momentum totals (p)')"
   ]
  },
  {
   "cell_type": "code",
   "execution_count": 22,
   "id": "07c10de3",
   "metadata": {},
   "outputs": [
    {
     "data": {
      "text/plain": [
       "Text(0.5, 1.0, 'heat eq.')"
      ]
     },
     "execution_count": 22,
     "metadata": {},
     "output_type": "execute_result"
    },
    {
     "data": {
      "image/png": "[encoded data removed]",
      "text/plain": [
       "<Figure size 432x288 with 1 Axes>"
      ]
     },
     "metadata": {
      "needs_background": "light"
     },
     "output_type": "display_data"
    }
   ],
   "source": [
    "# plot heat equation (all pieces)\n",
    "\n",
    "# pieces\n",
    "plt.plot(t, adv_heat[:, iphi0, it0, ir0], label='adv')\n",
    "plt.plot(t, visc_heat[:, iphi0, it0, ir0], label='visc')\n",
    "plt.plot(t, int_heat[:, iphi0, it0, ir0], label='Q(r)')\n",
    "plt.plot(t, cond_heat[:, iphi0, it0, ir0], label='cond')\n",
    "plt.plot(t, ref_adv_heat[:, iphi0, it0, ir0], label='rho T dS/dr')\n",
    "\n",
    "# totals\n",
    "plt.plot(t[2:], dintedt[:, iphi0, it0, ir0], 'k', label='d (rho T S) /dt (numderiv)')\n",
    "plt.plot(t[2:], fweighted_heat[:, iphi0, it0, ir0], 'r--', label='weighted RHS')\n",
    "\n",
    "# label\n",
    "plt.legend()\n",
    "plt.xlabel('time (prot)')\n",
    "plt.ylabel('heating (c.g.s.)')\n",
    "plt.title('heat eq.')"
   ]
  },
  {
   "cell_type": "code",
   "execution_count": 23,
   "id": "017a1953",
   "metadata": {},
   "outputs": [
    {
     "data": {
      "text/plain": [
       "Text(0.5, 1.0, 'heat eq. totals')"
      ]
     },
     "execution_count": 23,
     "metadata": {},
     "output_type": "execute_result"
    },
    {
     "data": {
      "image/png": "[encoded data removed]",
      "text/plain": [
       "<Figure size 432x288 with 1 Axes>"
      ]
     },
     "metadata": {
      "needs_background": "light"
     },
     "output_type": "display_data"
    }
   ],
   "source": [
    "# plot heat equation (totals)\n",
    "\n",
    "# totals\n",
    "plt.plot(t[2:], dintedt[:, iphi0, it0, ir0], 'k', label='d (rho T S) /dt (numderiv)')\n",
    "plt.plot(t[2:], fweighted_heat[:, iphi0, it0, ir0], 'r--', label='weighted RHS')\n",
    "\n",
    "# label\n",
    "plt.legend()\n",
    "plt.xlabel('time (prot)')\n",
    "plt.ylabel('heating (c.g.s.)')\n",
    "plt.title('heat eq. totals')"
   ]
  },
  {
   "cell_type": "code",
   "execution_count": 24,
   "id": "1c136b08",
   "metadata": {},
   "outputs": [],
   "source": [
    "# quantify the numerical errors\n",
    "def get_err(diff, norm, point=None, ir=None):\n",
    "    if not point is None:\n",
    "        diff = diff[:, point[0], point[1], point[2]]\n",
    "        norm = norm[:, point[0], point[1], point[2]]\n",
    "    if not ir is None:\n",
    "        diff = diff[..., ir]\n",
    "        norm = norm[..., ir]\n",
    "        \n",
    "    denom = norm**2\n",
    "    for i in range(norm.ndim - 1):\n",
    "        denom = np.mean(denom, axis=-1)\n",
    "    denom = np.sqrt(np.mean(denom))\n",
    "    \n",
    "    numer = diff**2\n",
    "    for i in range(norm.ndim - 1):\n",
    "        numer = np.mean(numer, axis=-1)\n",
    "    numer = np.sqrt(np.mean(numer))\n",
    "    return rms(numer/denom)"
   ]
  },
  {
   "cell_type": "code",
   "execution_count": 25,
   "id": "3772580a",
   "metadata": {},
   "outputs": [
    {
     "name": "stdout",
     "output_type": "stream",
     "text": [
      "err mom r =  0.5525465485136096\n",
      "err mom t =  0.15115424435873964\n",
      "err mom p =  0.11110363668001459\n",
      "err heat  =  0.03220309122326508\n"
     ]
    }
   ],
   "source": [
    "# stringent error, at the point we plotted\n",
    "print (\"err mom r = \", get_err(fweighted_r - drhovdt_r, fweighted_r, point=(iphi0, it0, ir0)))\n",
    "print (\"err mom t = \", get_err(fweighted_t - drhovdt_t, fweighted_t, point=(iphi0, it0, ir0)))\n",
    "print (\"err mom p = \", get_err(fweighted_p - drhovdt_p, fweighted_p, point=(iphi0, it0, ir0)))\n",
    "print (\"err heat  = \", get_err(fweighted_heat - dintedt, fweighted_heat, point=(iphi0, it0, ir0)))"
   ]
  },
  {
   "cell_type": "code",
   "execution_count": 26,
   "id": "037ec943",
   "metadata": {},
   "outputs": [
    {
     "name": "stdout",
     "output_type": "stream",
     "text": [
      "err mom r =  4.28088020115472e-06\n",
      "err mom t =  1.627960798851544e-05\n",
      "err mom p =  3.40010019961478e-05\n",
      "err heat  =  0.000615117404030298\n"
     ]
    }
   ],
   "source": [
    "# errors (w.r.t. maxabs) at the point we plotted\n",
    "print (\"err mom r = \", get_err(fweighted_r - drhovdt_r, maxabs_r[2:], point=(iphi0, it0, ir0)))\n",
    "print (\"err mom t = \", get_err(fweighted_t - drhovdt_t, maxabs_t[2:], point=(iphi0, it0, ir0)))\n",
    "print (\"err mom p = \", get_err(fweighted_p - drhovdt_p, maxabs_p[2:], point=(iphi0, it0, ir0)))\n",
    "print (\"err heat  = \", get_err(fweighted_heat - dintedt, maxabs_heat[2:], point=(iphi0, it0, ir0)))"
   ]
  },
  {
   "cell_type": "code",
   "execution_count": 27,
   "id": "c2aaa455",
   "metadata": {},
   "outputs": [
    {
     "name": "stdout",
     "output_type": "stream",
     "text": [
      "err mom r =  0.054336845818130995\n",
      "err mom t =  0.1713516978470173\n",
      "err mom p =  0.19879035666685327\n",
      "err heat  =  0.028888394935549205\n"
     ]
    }
   ],
   "source": [
    "# stringent errors\n",
    "print (\"err mom r = \", get_err(fweighted_r - drhovdt_r, fweighted_r))\n",
    "print (\"err mom t = \", get_err(fweighted_t - drhovdt_t, fweighted_t))\n",
    "print (\"err mom p = \", get_err(fweighted_p - drhovdt_p, fweighted_p))\n",
    "print (\"err heat  = \", get_err(fweighted_heat - dintedt, fweighted_heat))"
   ]
  },
  {
   "cell_type": "code",
   "execution_count": 28,
   "id": "6de9cddb",
   "metadata": {},
   "outputs": [
    {
     "name": "stdout",
     "output_type": "stream",
     "text": [
      "err mom r =  1.5922887693078144e-05\n",
      "err mom t =  9.824146768102483e-05\n",
      "err mom p =  5.49329897638681e-05\n",
      "err heat  =  0.00047857689061738397\n"
     ]
    }
   ],
   "source": [
    "# errors (w.r.t. maxabs)\n",
    "print (\"err mom r = \", get_err(fweighted_r - drhovdt_r, maxabs_r[2:]))\n",
    "print (\"err mom t = \", get_err(fweighted_t - drhovdt_t, maxabs_t[2:]))\n",
    "print (\"err mom p = \", get_err(fweighted_p - drhovdt_p, maxabs_p[2:]))\n",
    "print (\"err heat  = \", get_err(fweighted_heat - dintedt, maxabs_heat[2:]))"
   ]
  },
  {
   "cell_type": "code",
   "execution_count": 29,
   "id": "cd45b79d",
   "metadata": {
    "scrolled": true
   },
   "outputs": [
    {
     "name": "stdout",
     "output_type": "stream",
     "text": [
      "mom (r) errors at different radii\n",
      "ir = 0: err =  0.6825476384903297\n",
      "ir = 1: err =  0.6547382143557956\n",
      "ir = 2: err =  0.2504075323811157\n",
      "ir = 3: err =  0.12371488821627774\n",
      "ir = 4: err =  0.07090104093082886\n",
      "ir = 5: err =  0.034141540775107115\n",
      "ir = 6: err =  0.018624649722788496\n",
      "ir = 7: err =  0.017120140604066164\n",
      "ir = 8: err =  0.016537651865408075\n",
      "ir = 9: err =  0.016100102012290847\n",
      "ir = 10: err =  0.015530865436376455\n",
      "ir = 11: err =  0.014462867539014584\n",
      "ir = 12: err =  0.01172700320482442\n",
      "ir = 13: err =  0.008988157186090128\n",
      "ir = 14: err =  0.005949610034455408\n",
      "ir = 15: err =  0.004733284319164262\n",
      "ir = 16: err =  0.004348170554398295\n",
      "ir = 17: err =  0.007668417650157308\n",
      "ir = 18: err =  0.015931852485562017\n"
     ]
    }
   ],
   "source": [
    "# print error at each radius\n",
    "print ('mom (r) errors at different radii')\n",
    "for ir in range(len(irvals)):\n",
    "    print ('ir = %i:' %ir, 'err = ', get_err(fweighted_r - drhovdt_r, fweighted_r, ir=ir))"
   ]
  },
  {
   "cell_type": "code",
   "execution_count": 30,
   "id": "02bb5515",
   "metadata": {},
   "outputs": [
    {
     "name": "stdout",
     "output_type": "stream",
     "text": [
      "mom (t) errors at different radii\n",
      "ir = 0: err =  0.5141651337204903\n",
      "ir = 1: err =  0.37320539868138314\n",
      "ir = 2: err =  0.18673553324767087\n",
      "ir = 3: err =  0.15459445781485884\n",
      "ir = 4: err =  0.13061918313864465\n",
      "ir = 5: err =  0.16052321000615793\n",
      "ir = 6: err =  0.15464227740586572\n",
      "ir = 7: err =  0.14252916233157376\n",
      "ir = 8: err =  0.13021868437494644\n",
      "ir = 9: err =  0.11992880216593062\n",
      "ir = 10: err =  0.11095397170149711\n",
      "ir = 11: err =  0.10118077749070867\n",
      "ir = 12: err =  0.0732660210900587\n",
      "ir = 13: err =  0.040021337186765205\n",
      "ir = 14: err =  0.01976977659009377\n",
      "ir = 15: err =  0.025337078411074604\n",
      "ir = 16: err =  0.027615574965331357\n",
      "ir = 17: err =  0.03839135058635347\n",
      "ir = 18: err =  0.022879517628189676\n"
     ]
    }
   ],
   "source": [
    "# print error at each radius\n",
    "print ('mom (t) errors at different radii')\n",
    "for ir in range(len(irvals)):\n",
    "    print ('ir = %i:' %ir, 'err = ', get_err(fweighted_t - drhovdt_t, fweighted_t, ir=ir))"
   ]
  },
  {
   "cell_type": "code",
   "execution_count": 31,
   "id": "2180d49b",
   "metadata": {},
   "outputs": [
    {
     "name": "stdout",
     "output_type": "stream",
     "text": [
      "mom (p) errors at different radii\n",
      "ir = 0: err =  0.635592824868935\n",
      "ir = 1: err =  0.1412701027702197\n",
      "ir = 2: err =  0.1929150588967692\n",
      "ir = 3: err =  0.15911586024702848\n",
      "ir = 4: err =  0.10388807306069048\n",
      "ir = 5: err =  0.08229680650796949\n",
      "ir = 6: err =  0.07477492946047672\n",
      "ir = 7: err =  0.07406800316284474\n",
      "ir = 8: err =  0.07638213260386288\n",
      "ir = 9: err =  0.08063327970865941\n",
      "ir = 10: err =  0.085519793448931\n",
      "ir = 11: err =  0.09011813218227038\n",
      "ir = 12: err =  0.09591845524109553\n",
      "ir = 13: err =  0.09838057492653365\n",
      "ir = 14: err =  0.10189134182073628\n",
      "ir = 15: err =  0.10033058484322502\n",
      "ir = 16: err =  0.0928307439745741\n",
      "ir = 17: err =  0.0742290734707223\n",
      "ir = 18: err =  0.06769825111648999\n"
     ]
    }
   ],
   "source": [
    "# print error at each radius\n",
    "print ('mom (p) errors at different radii')\n",
    "for ir in range(len(irvals)):\n",
    "    print ('ir = %i:' %ir, 'err = ', get_err(fweighted_p - drhovdt_p, fweighted_p, ir=ir))"
   ]
  },
  {
   "cell_type": "code",
   "execution_count": 32,
   "id": "bfc19050",
   "metadata": {},
   "outputs": [
    {
     "name": "stdout",
     "output_type": "stream",
     "text": [
      "heat errors at different radii\n",
      "ir = 0: err =  0.08489920244881893\n",
      "ir = 1: err =  0.11287256209873887\n",
      "ir = 2: err =  0.060291826883375685\n",
      "ir = 3: err =  0.03434826413704183\n",
      "ir = 4: err =  0.020177191444937802\n",
      "ir = 5: err =  0.010022259645352881\n",
      "ir = 6: err =  0.011929678148905146\n",
      "ir = 7: err =  0.013774702637897457\n",
      "ir = 8: err =  0.01559060674015685\n",
      "ir = 9: err =  0.017296511730983236\n",
      "ir = 10: err =  0.018895528361930605\n",
      "ir = 11: err =  0.020420999829277225\n",
      "ir = 12: err =  0.02340807549557382\n",
      "ir = 13: err =  0.026525879350685122\n",
      "ir = 14: err =  0.031535333219550335\n",
      "ir = 15: err =  0.034870764763019146\n",
      "ir = 16: err =  0.03822233157374327\n",
      "ir = 17: err =  0.04643684512013239\n",
      "ir = 18: err =  0.05341700249470065\n"
     ]
    }
   ],
   "source": [
    "# print error at each radius\n",
    "print ('heat errors at different radii')\n",
    "for ir in range(len(irvals)):\n",
    "    print ('ir = %i:' %ir, 'err = ', get_err(fweighted_heat - dintedt, fweighted_heat, ir=ir))"
   ]
  },
  {
   "cell_type": "code",
   "execution_count": null,
   "id": "77dd7fb3",
   "metadata": {},
   "outputs": [],
   "source": []
  }
 ],
 "metadata": {
  "kernelspec": {
   "display_name": "Python 3",
   "language": "python",
   "name": "python3"
  },
  "language_info": {
   "codemirror_mode": {
    "name": "ipython",
    "version": 3
   },
   "file_extension": ".py",
   "mimetype": "text/x-python",
   "name": "python",
   "nbconvert_exporter": "python",
   "pygments_lexer": "ipython3",
   "version": "3.7.10"
  }
 },
 "nbformat": 4,
 "nbformat_minor": 5
}
